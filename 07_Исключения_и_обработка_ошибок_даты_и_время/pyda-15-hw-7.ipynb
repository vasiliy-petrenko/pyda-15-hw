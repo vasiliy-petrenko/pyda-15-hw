{
 "cells": [
  {
   "cell_type": "markdown",
   "metadata": {},
   "source": [
    "# Задание 1"
   ]
  },
  {
   "cell_type": "code",
   "execution_count": 9,
   "metadata": {},
   "outputs": [
    {
     "name": "stdout",
     "output_type": "stream",
     "text": [
      "2002-10-02 00:00:00\n",
      "2013-10-11 00:00:00\n",
      "1977-08-18 00:00:00\n"
     ]
    }
   ],
   "source": [
    "from datetime import datetime\n",
    "\n",
    "print(datetime.strptime('Wednesday, October 02, 2002', '%A, %B %d, %Y'))\n",
    "print(datetime.strptime('Friday, 11.10.13', '%A, %d.%m.%y'))\n",
    "print(datetime.strptime('Thursday, 18 August 1977', '%A, %d %B %Y'))"
   ]
  },
  {
   "cell_type": "markdown",
   "metadata": {},
   "source": [
    "# Задание 2"
   ]
  },
  {
   "cell_type": "code",
   "execution_count": 25,
   "metadata": {},
   "outputs": [
    {
     "data": {
      "text/plain": [
       "[('2018-04-02', True), ('2018-02-29', False), ('2018-19-02', False)]"
      ]
     },
     "execution_count": 25,
     "metadata": {},
     "output_type": "execute_result"
    }
   ],
   "source": [
    "from datetime import datetime\n",
    "\n",
    "stream = ['2018-04-02', '2018-02-29', '2018-19-02']\n",
    "\n",
    "def check_date_in_list(dates_list):\n",
    "    \"\"\" \n",
    "    функция проверки дат в передаваемом списке на корректность. Если корректна - в кортеж к дате включается True, иначе False\n",
    "    \"\"\"\n",
    "    dates_tuples = []\n",
    "    for date in dates_list:\n",
    "        try:\n",
    "            datetime.strptime(date, '%Y-%m-%d')\n",
    "            dates_tuples.append((date, True))\n",
    "        except:\n",
    "            dates_tuples.append((date, False))            \n",
    "        \n",
    "    return dates_tuples\n",
    "\n",
    "# вызов функции проверки корректности дат\n",
    "# ?check_date_in_list\n",
    "check_date_in_list(stream)"
   ]
  },
  {
   "cell_type": "markdown",
   "metadata": {},
   "source": [
    "# Задание 3"
   ]
  },
  {
   "cell_type": "code",
   "execution_count": 49,
   "metadata": {},
   "outputs": [
    {
     "data": {
      "text/plain": [
       "['2020-01-10',\n",
       " '2020-01-11',\n",
       " '2020-01-12',\n",
       " '2020-01-13',\n",
       " '2020-01-14',\n",
       " '2020-01-15',\n",
       " '2020-01-16',\n",
       " '2020-01-17',\n",
       " '2020-01-18',\n",
       " '2020-01-19',\n",
       " '2020-01-20']"
      ]
     },
     "execution_count": 49,
     "metadata": {},
     "output_type": "execute_result"
    }
   ],
   "source": [
    "from datetime import datetime\n",
    "from datetime import timedelta\n",
    "\n",
    "def date_range(start_date, end_date):\n",
    "    \"\"\"\n",
    "    функция возвращает список дат за период от start_date до end_date\n",
    "    \"\"\"\n",
    "    dates_list = []\n",
    "    try:\n",
    "        start_date_dt = datetime.strptime(start_date, '%Y-%m-%d')\n",
    "        end_date_dt = datetime.strptime(end_date, '%Y-%m-%d')\n",
    "        current_date_dt = start_date_dt\n",
    "        while current_date_dt <= end_date_dt:\n",
    "            current_date = datetime.strftime(current_date_dt, '%Y-%m-%d')\n",
    "#             print(current_date)\n",
    "            dates_list.append(current_date)\n",
    "            current_date_dt += timedelta(days=1)\n",
    "        \n",
    "    finally:\n",
    "        return dates_list\n",
    "\n",
    "# вызов функции вывода списка дат\n",
    "date_range('2020-01-10', '2020-01-20')"
   ]
  }
 ],
 "metadata": {
  "kernelspec": {
   "display_name": "Python 3",
   "language": "python",
   "name": "python3"
  },
  "language_info": {
   "codemirror_mode": {
    "name": "ipython",
    "version": 3
   },
   "file_extension": ".py",
   "mimetype": "text/x-python",
   "name": "python",
   "nbconvert_exporter": "python",
   "pygments_lexer": "ipython3",
   "version": "3.8.3"
  }
 },
 "nbformat": 4,
 "nbformat_minor": 4
}
