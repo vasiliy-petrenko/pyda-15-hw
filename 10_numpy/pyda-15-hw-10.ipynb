{
 "cells": [
  {
   "cell_type": "markdown",
   "metadata": {},
   "source": [
    "# Задание 1\n",
    "Создайте numpy array с элементами от числа N до 0 (например, для N = 10 это будет array([9, 8, 7, 6, 5, 4, 3, 2, 1, 0]))."
   ]
  },
  {
   "cell_type": "code",
   "execution_count": 1,
   "metadata": {},
   "outputs": [],
   "source": [
    "import numpy as np"
   ]
  },
  {
   "cell_type": "code",
   "execution_count": 73,
   "metadata": {},
   "outputs": [
    {
     "data": {
      "text/plain": [
       "array([10,  9,  8,  7,  6,  5,  4,  3,  2,  1,  0])"
      ]
     },
     "execution_count": 73,
     "metadata": {},
     "output_type": "execute_result"
    }
   ],
   "source": [
    "N = 11\n",
    "\n",
    "# Создайте numpy array с элементами от числа N до 0 (например, для N = 10 это будет array([9, 8, 7, 6, 5, 4, 3, 2, 1, 0]))\n",
    "np.arange(-(N-1), 1) * np.full(N,-1)"
   ]
  },
  {
   "cell_type": "markdown",
   "metadata": {},
   "source": [
    "# Задание 2\n",
    "Создайте диагональную матрицу с элементами от N до 0. Посчитайте сумму ее значений на диагонали."
   ]
  },
  {
   "cell_type": "code",
   "execution_count": 74,
   "metadata": {
    "scrolled": true
   },
   "outputs": [
    {
     "name": "stdout",
     "output_type": "stream",
     "text": [
      "[[10  0  0  0  0  0  0  0  0  0  0]\n",
      " [ 0  9  0  0  0  0  0  0  0  0  0]\n",
      " [ 0  0  8  0  0  0  0  0  0  0  0]\n",
      " [ 0  0  0  7  0  0  0  0  0  0  0]\n",
      " [ 0  0  0  0  6  0  0  0  0  0  0]\n",
      " [ 0  0  0  0  0  5  0  0  0  0  0]\n",
      " [ 0  0  0  0  0  0  4  0  0  0  0]\n",
      " [ 0  0  0  0  0  0  0  3  0  0  0]\n",
      " [ 0  0  0  0  0  0  0  0  2  0  0]\n",
      " [ 0  0  0  0  0  0  0  0  0  1  0]\n",
      " [ 0  0  0  0  0  0  0  0  0  0  0]]\n",
      "Сумма: 55\n"
     ]
    }
   ],
   "source": [
    "N=11\n",
    "\n",
    "# Создайте диагональную матрицу с элементами от N до 0. Посчитайте сумму ее значений на диагонали\n",
    "diagarray = np.diag(np.arange(-(N-1), 1, 1), k=0) * np.diag(np.full(N,-1))\n",
    "print(diagarray)\n",
    "print(f\"Сумма: {diagarray.sum()}\")\n"
   ]
  },
  {
   "cell_type": "markdown",
   "metadata": {},
   "source": [
    "# Задание 3\n",
    "Решите систему уравнений:\n",
    "4x + 2y + z = 4\n",
    "x + 3y = 12\n",
    "5y + 4z = -3"
   ]
  },
  {
   "cell_type": "code",
   "execution_count": 81,
   "metadata": {},
   "outputs": [
    {
     "data": {
      "text/plain": [
       "array([ 0.46666667,  3.84444444, -5.55555556])"
      ]
     },
     "execution_count": 81,
     "metadata": {},
     "output_type": "execute_result"
    }
   ],
   "source": [
    "from numpy import linalg\n",
    "\n",
    "# Решите систему уравнений:\n",
    "# 4x + 2y + z = 4\n",
    "# x + 3y = 12\n",
    "# 5y + 4z = -3\n",
    "a = np.array( [[4,2,1],\n",
    "               [1,3,0],\n",
    "               [0,5,4]] )\n",
    "b = np.array( [4,12,-3] )\n",
    "\n",
    "linalg.solve(a, b)\n",
    "\n",
    "# np.allclose( np.dot(a, linalg.solve(a, b)), b )"
   ]
  },
  {
   "cell_type": "markdown",
   "metadata": {},
   "source": [
    "# Задание 4\n",
    "В материалах занятия раздел “Задача 4 домашнего задания”"
   ]
  },
  {
   "cell_type": "code",
   "execution_count": 100,
   "metadata": {},
   "outputs": [
    {
     "name": "stdout",
     "output_type": "stream",
     "text": [
      "Самый похожий пользователь - №8, его история покупок [0 1 1 0 0 0] максимально совпадает с историей очередного посетителя [0 1 2 0 0 0], косинусное сходство 0.9486832980505138\n"
     ]
    }
   ],
   "source": [
    "def cosine( a, b ):\n",
    "    \"\"\"\n",
    "    Подсчет косинуса угла между векторами a, b по их координатам\n",
    "    \"\"\"\n",
    "    \n",
    "    # длины векторов\n",
    "    aLength = np.linalg.norm( a )\n",
    "    bLength = np.linalg.norm( b )\n",
    "    \n",
    "    return np.dot( a, b ) / ( aLength * bLength )\n",
    "\n",
    "# Имеется матрица покупок в интернет-магазине. Столбец А - ID пользователя. Остальные столбцы - количество покупок категорий товаров этим пользователем:\n",
    "users_stats = np.array(\n",
    "    [\n",
    "        [2, 1, 0, 0, 0, 0],\n",
    "        [1, 1, 2, 1, 0, 0],\n",
    "        [2, 0, 1, 0, 0, 0],\n",
    "        [1, 1, 2, 1, 0, 1],\n",
    "        [0, 0, 1, 2, 0, 0],\n",
    "        [0, 0, 0, 0, 0, 5],\n",
    "        [1, 0, 0, 0, 0, 0],\n",
    "        [0, 1, 1, 0, 0, 0],\n",
    "        [0, 0, 0, 1, 1, 3],\n",
    "        [1, 0, 0, 2, 1, 4]\n",
    "    ], \n",
    "    np.int32\n",
    ")\n",
    "\n",
    "# На сайт заходит очередной посетитель, о покупках которого известно следующее:\n",
    "next_user_stats = np.array([0, 1, 2, 0, 0, 0])\n",
    "\n",
    "cosine_list = []\n",
    "\n",
    "for i,vector in enumerate(users_stats):\n",
    "    vector = users_stats[i]\n",
    "#     print(vector)\n",
    "#     print(cosine( vector, next_user_stats ))\n",
    "    cosine_list.append(cosine( vector, next_user_stats ))\n",
    "    \n",
    "similar_user = cosine_list.index(max(cosine_list))\n",
    "\n",
    "print(f\"Самый похожий пользователь - №{similar_user+1}, его история покупок {users_stats[similar_user]} максимально совпадает с историей очередного посетителя {next_user_stats}, косинусное сходство {max(cosine_list)}\")\n"
   ]
  }
 ],
 "metadata": {
  "kernelspec": {
   "display_name": "Python 3",
   "language": "python",
   "name": "python3"
  },
  "language_info": {
   "codemirror_mode": {
    "name": "ipython",
    "version": 3
   },
   "file_extension": ".py",
   "mimetype": "text/x-python",
   "name": "python",
   "nbconvert_exporter": "python",
   "pygments_lexer": "ipython3",
   "version": "3.8.3"
  }
 },
 "nbformat": 4,
 "nbformat_minor": 4
}
