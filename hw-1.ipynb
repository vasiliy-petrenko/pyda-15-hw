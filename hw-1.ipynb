{
 "cells": [
  {
   "cell_type": "markdown",
   "metadata": {},
   "source": [
    "# Домашнее задание к лекции \"Основы Python\""
   ]
  },
  {
   "cell_type": "markdown",
   "metadata": {},
   "source": [
    "## Задание 1"
   ]
  },
  {
   "cell_type": "code",
   "execution_count": 4,
   "metadata": {},
   "outputs": [
    {
     "name": "stdout",
     "output_type": "stream",
     "text": [
      "Вторая строка длиннее\n"
     ]
    }
   ],
   "source": [
    "vStr_Phrase1 = 'Строка один'\n",
    "vStr_Phrase2 = 'Строка один1'\n",
    "\n",
    "if( ( len(vStr_Phrase1) > len(vStr_Phrase2) ) ):\n",
    "    print('Первая строка длиннее')\n",
    "elif ( len(vStr_Phrase1) == len(vStr_Phrase2) ):\n",
    "    print('строки равны')\n",
    "else:\n",
    "    print('Вторая строка длиннее')"
   ]
  },
  {
   "cell_type": "markdown",
   "metadata": {},
   "source": [
    "## Задание 2"
   ]
  },
  {
   "cell_type": "code",
   "execution_count": 37,
   "metadata": {},
   "outputs": [
    {
     "name": "stdout",
     "output_type": "stream",
     "text": [
      "обычный год\n"
     ]
    }
   ],
   "source": [
    "vNum_Year = 2021\n",
    "if( vNum_Year % 4 == 0 ):\n",
    "    print('високосный год')\n",
    "else:\n",
    "    print('обычный год')"
   ]
  },
  {
   "cell_type": "markdown",
   "metadata": {},
   "source": [
    "## Задание 3"
   ]
  },
  {
   "cell_type": "code",
   "execution_count": 2,
   "metadata": {},
   "outputs": [
    {
     "name": "stdout",
     "output_type": "stream",
     "text": [
      "Введите день. Пример: 1616\n",
      "Введите месяц. Пример: октябрьоктябрь\n",
      "День.Месяц:  16 . 10\n",
      "Знак зодиака:  Весы\n"
     ]
    }
   ],
   "source": [
    "#Обнуление переменных расчета\n",
    "vMonthNum = 0\n",
    "vDay = 0\n",
    "vDateMMDD = 0\n",
    "vStr_Result = ''\n",
    "\n",
    "#Определение параметров знаков зодиака (https://www.nur.kz/1795646-znaki-zodiaka-daty-harakter-sposobnosti-zdorove.html)\n",
    "vDateMMDD_ZodiacStart_01 = 321\n",
    "vDateMMDD_ZodiacEnd_01 = 420\n",
    "vStr_ZodiacName_01 = 'Овен'\n",
    "\n",
    "vDateMMDD_ZodiacStart_02 = 421\n",
    "vDateMMDD_ZodiacEnd_02 = 521\n",
    "vStr_ZodiacName_02 = 'Телец'\n",
    "\n",
    "vDateMMDD_ZodiacStart_03 = 522\n",
    "vDateMMDD_ZodiacEnd_03 = 621\n",
    "vStr_ZodiacName_03 = 'Близнецы'\n",
    "\n",
    "vDateMMDD_ZodiacStart_04 = 622\n",
    "vDateMMDD_ZodiacEnd_04 = 722\n",
    "vStr_ZodiacName_04 = 'Рак'\n",
    "\n",
    "vDateMMDD_ZodiacStart_05 = 723\n",
    "vDateMMDD_ZodiacEnd_05 = 823\n",
    "vStr_ZodiacName_05 = 'Лев'\n",
    "\n",
    "vDateMMDD_ZodiacStart_06 = 824\n",
    "vDateMMDD_ZodiacEnd_06 = 923\n",
    "vStr_ZodiacName_06 = 'Дева'\n",
    "\n",
    "vDateMMDD_ZodiacStart_07 = 924\n",
    "vDateMMDD_ZodiacEnd_07 = 1023\n",
    "vStr_ZodiacName_07 = 'Весы'\n",
    "\n",
    "vDateMMDD_ZodiacStart_08 = 1024\n",
    "vDateMMDD_ZodiacEnd_08 = 1122\n",
    "vStr_ZodiacName_08 = 'Скорпион'\n",
    "\n",
    "vDateMMDD_ZodiacStart_09 = 1123\n",
    "vDateMMDD_ZodiacEnd_09 = 1221\n",
    "vStr_ZodiacName_09 = 'Стрелец'\n",
    "\n",
    "#для Козерога два интервала из-за смены календарного года\n",
    "vDateMMDD_ZodiacStart_10 = 1222\n",
    "vDateMMDD_ZodiacEnd_10 = 1231\n",
    "vStr_ZodiacName_10 = 'Козерог'\n",
    "vDateMMDD_ZodiacStart_13 = 101\n",
    "vDateMMDD_ZodiacEnd_13 = 120\n",
    "vStr_ZodiacName_13 = 'Козерог'\n",
    "\n",
    "vDateMMDD_ZodiacStart_11 = 121\n",
    "vDateMMDD_ZodiacEnd_11 = 218\n",
    "vStr_ZodiacName_11 = 'Водолей'\n",
    "\n",
    "vDateMMDD_ZodiacStart_12 = 219\n",
    "vDateMMDD_ZodiacEnd_12 = 320\n",
    "vStr_ZodiacName_12 = 'Рыбы'\n",
    "\n",
    "#Определение входных параметров расчета - День и Месяц. День вводится числом, Месяц - строкой. Преобразуются к числам для интервальных сравнений\n",
    "vInput_Day = input('Введите день. Пример: 16')\n",
    "if ( 1 <= int(vInput_Day) <= 31 ):\n",
    "    vDay = int(vInput_Day)\n",
    "else:\n",
    "    vDay = 0\n",
    "    print('неправильный формат дня')\n",
    "#print('День: ', vDay)\n",
    "\n",
    "vInput_Month = input('Введите месяц. Пример: октябрь')\n",
    "\n",
    "if ( vInput_Month == 'январь' ):\n",
    "    vMonthNum = 1\n",
    "elif ( vInput_Month == 'февраль' ):\n",
    "    vMonthNum = 2\n",
    "elif ( vInput_Month == 'март' ):\n",
    "    vMonthNum = 3\n",
    "elif ( vInput_Month == 'апрель' ):\n",
    "    vMonthNum = 4\n",
    "elif ( vInput_Month == 'май' ):\n",
    "    vMonthNum = 5\n",
    "elif ( vInput_Month == 'июнь' ):\n",
    "    vMonthNum = 6\n",
    "elif ( vInput_Month == 'июль' ):\n",
    "    vMonthNum = 7\n",
    "elif ( vInput_Month == 'август' ):\n",
    "    vMonthNum = 8\n",
    "elif ( vInput_Month == 'сентябрь' ):\n",
    "    vMonthNum = 9\n",
    "elif ( vInput_Month == 'октябрь' ):\n",
    "    vMonthNum = 10\n",
    "elif ( vInput_Month == 'ноябрь' ):\n",
    "    vMonthNum = 11\n",
    "elif ( vInput_Month == 'декабрь' ):\n",
    "    vMonthNum = 12\n",
    "else: \n",
    "    vMonthNum = 0\n",
    "    print('неправильный формат месяца')\n",
    "#print('Месяц: ', vMonthNum)\n",
    "\n",
    "if ( vDay > 0 and vMonthNum > 0 ):\n",
    "    vDateMMDD = vMonthNum * 100 + vDay\n",
    "#print('Месяц-День: ', vDateMMDD)\n",
    "print('День.Месяц: ', vDay,'.',vMonthNum)\n",
    "\n",
    "if( vDateMMDD_ZodiacStart_01 <= vDateMMDD <= vDateMMDD_ZodiacEnd_01 ):\n",
    "    vStr_Result = vStr_ZodiacName_01\n",
    "elif( vDateMMDD_ZodiacStart_02 <= vDateMMDD <= vDateMMDD_ZodiacEnd_02 ):\n",
    "    vStr_Result = vStr_ZodiacName_02\n",
    "elif( vDateMMDD_ZodiacStart_03 <= vDateMMDD <= vDateMMDD_ZodiacEnd_03 ):\n",
    "    vStr_Result = vStr_ZodiacName_03\n",
    "elif( vDateMMDD_ZodiacStart_04 <= vDateMMDD <= vDateMMDD_ZodiacEnd_04 ):\n",
    "    vStr_Result = vStr_ZodiacName_04\n",
    "elif( vDateMMDD_ZodiacStart_05 <= vDateMMDD <= vDateMMDD_ZodiacEnd_05 ):\n",
    "    vStr_Result = vStr_ZodiacName_05\n",
    "elif( vDateMMDD_ZodiacStart_06 <= vDateMMDD <= vDateMMDD_ZodiacEnd_06 ):\n",
    "    vStr_Result = vStr_ZodiacName_06\n",
    "elif( vDateMMDD_ZodiacStart_07 <= vDateMMDD <= vDateMMDD_ZodiacEnd_07 ):\n",
    "    vStr_Result = vStr_ZodiacName_07\n",
    "elif( vDateMMDD_ZodiacStart_08 <= vDateMMDD <= vDateMMDD_ZodiacEnd_08 ):\n",
    "    vStr_Result = vStr_ZodiacName_08\n",
    "elif( vDateMMDD_ZodiacStart_09 <= vDateMMDD <= vDateMMDD_ZodiacEnd_09 ):\n",
    "    vStr_Result = vStr_ZodiacName_09\n",
    "elif( vDateMMDD_ZodiacStart_10 <= vDateMMDD <= vDateMMDD_ZodiacEnd_10 ):\n",
    "    vStr_Result = vStr_ZodiacName_10\n",
    "elif( vDateMMDD_ZodiacStart_11 <= vDateMMDD <= vDateMMDD_ZodiacEnd_11 ):\n",
    "    vStr_Result = vStr_ZodiacName_11\n",
    "elif( vDateMMDD_ZodiacStart_12 <= vDateMMDD <= vDateMMDD_ZodiacEnd_12 ):\n",
    "    vStr_Result = vStr_ZodiacName_12\n",
    "elif( vDateMMDD_ZodiacStart_13 <= vDateMMDD <= vDateMMDD_ZodiacEnd_13 ):\n",
    "    vStr_Result = vStr_ZodiacName_13\n",
    "else:\n",
    "    vStr_Result = 'не может быть определен'\n",
    "\n",
    "print('Знак зодиака: ', vStr_Result)\n"
   ]
  },
  {
   "cell_type": "markdown",
   "metadata": {},
   "source": [
    "## Задание 4"
   ]
  },
  {
   "cell_type": "code",
   "execution_count": 1,
   "metadata": {},
   "outputs": [
    {
     "name": "stdout",
     "output_type": "stream",
     "text": [
      "Упаковка для лыж\n"
     ]
    }
   ],
   "source": [
    "# Размеры хранятся в переменных (в сантиметрах):\n",
    "width = 30\n",
    "length = 205\n",
    "height = 5\n",
    "\n",
    "# если каждое из трех измерений менее 15 сантиметров\n",
    "if ( ( width < 15 ) and ( length < 15 ) and ( height < 15 ) ):\n",
    "    print('Коробка №1')\n",
    "# если длина товара больше 2 метров\n",
    "elif ( length > 200 ):\n",
    "    print('Упаковка для лыж')\n",
    "# если хотя бы одно из измерений больше 15 сантиметров, но менее 50 сантиметров\n",
    "elif ( ( 15 < width < 50 ) or ( 15 < length < 50 ) or ( 15 < height < 50 ) ):\n",
    "    print('Коробка №2')\n",
    "else:\n",
    "    print('Стандартная коробка №3')\n",
    "    \n"
   ]
  },
  {
   "cell_type": "code",
   "execution_count": null,
   "metadata": {},
   "outputs": [],
   "source": []
  }
 ],
 "metadata": {
  "kernelspec": {
   "display_name": "Python 3",
   "language": "python",
   "name": "python3"
  },
  "language_info": {
   "codemirror_mode": {
    "name": "ipython",
    "version": 3
   },
   "file_extension": ".py",
   "mimetype": "text/x-python",
   "name": "python",
   "nbconvert_exporter": "python",
   "pygments_lexer": "ipython3",
   "version": "3.8.3"
  }
 },
 "nbformat": 4,
 "nbformat_minor": 4
}
