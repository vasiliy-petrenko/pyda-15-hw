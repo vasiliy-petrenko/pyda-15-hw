{
 "cells": [
  {
   "cell_type": "code",
   "execution_count": 54,
   "metadata": {},
   "outputs": [],
   "source": [
    "import re\n",
    "import numpy as np\n"
   ]
  },
  {
   "cell_type": "markdown",
   "metadata": {},
   "source": [
    "# Задание"
   ]
  },
  {
   "cell_type": "markdown",
   "metadata": {},
   "source": [
    "Смоделировать игру против лотерейного автомата типа “777”. Игрок платит 1 руб., после чего выпадает случайное целое число, равномерно распределенное от 0 до 999. При некоторых значениях числа игрок получает выигрыш (см. справа)\n",
    "\n",
    "Выгодна ли игра игроку?\n",
    "\n",
    "Сколько в среднем приобретает\n",
    "или теряет игрок за одну игру?\n",
    "\n",
    "777: 200 руб.\n",
    "999: 100 руб.\n",
    "555: 50 руб.\n",
    "333: 15 руб.\n",
    "111: 10 руб.\n",
    "*77: 5 руб.\n",
    "**7: 3 руб.\n",
    "*00: 2 руб.\n",
    "**0: 1 руб.\n",
    "\n",
    "– любая цифра"
   ]
  },
  {
   "cell_type": "markdown",
   "metadata": {},
   "source": [
    "**допущение применительно к постановке задачи**:\n",
    "- под \"целым числом\" подразумевается комбинация трех цифр. Примеры: 001, 050, 501\n"
   ]
  },
  {
   "cell_type": "code",
   "execution_count": 137,
   "metadata": {},
   "outputs": [],
   "source": [
    "# Словарь с выигрышными комбинациями и суммами выигрышей. Используется нотация записи регулярных выражений\n",
    "dict_win_figures_and_values = {\n",
    "    '777':200,\n",
    "    '999':100,\n",
    "    '555':50,\n",
    "    '333':15,\n",
    "    '111':10,\n",
    "    '.77':5,\n",
    "    '..7':3,\n",
    "    '.00':2,\n",
    "    '..0':1,    \n",
    "}\n",
    "# dict_win_figures_and_values"
   ]
  },
  {
   "cell_type": "markdown",
   "metadata": {},
   "source": [
    "## Теоретический расчет среднего выигрыша (мат.ожидание)"
   ]
  },
  {
   "cell_type": "code",
   "execution_count": 120,
   "metadata": {},
   "outputs": [
    {
     "name": "stdout",
     "output_type": "stream",
     "text": [
      "Мат.ожидание выигрыша на вложенный рубль: 0.8000000000000004 рублей, доля выигрышных комбинаций: 0.204\n"
     ]
    }
   ],
   "source": [
    "no_of_win_figures = 0\n",
    "sum_of_values = 0\n",
    "\n",
    "# перебор всех комбинаций от 000 до 999\n",
    "for figure in range(1000):\n",
    "# конвертация int к 3-значной комбинации (примитивный способ)\n",
    "    if figure < 10:\n",
    "        figure_3digit = '00' + str(figure)\n",
    "    elif figure < 100:\n",
    "        figure_3digit = '0' + str(figure)\n",
    "    else:\n",
    "        figure_3digit = str(figure)\n",
    "\n",
    "# подбор подходящей маски для комбинации, если подошла - определение ее выигрыша\n",
    "    for regex_win_figure in list(dict_win_figures_and_values.keys()):\n",
    "        if re.match( regex_win_figure, figure_3digit ):\n",
    "# мат.ожидание выигрыша: сумма произведений вероятности выпадения каждой комбинации (1/1000) на ее выигрыш                \n",
    "            no_of_win_figures += 1\n",
    "            sum_of_values += 1/1000 * dict_win_figures_and_values[regex_win_figure]\n",
    "#             print( figure_3digit, regex_win_figure, dict_win_figures_and_values[regex_win_figure] )\n",
    "# выход из цикла, потому что одна комбинация приносит только один выигрыш\n",
    "            break\n",
    "\n",
    "print( f'Мат.ожидание выигрыша на вложенный рубль: {sum_of_values} рублей, доля выигрышных комбинаций: {no_of_win_figures / 1000}' )"
   ]
  },
  {
   "cell_type": "markdown",
   "metadata": {},
   "source": [
    "## Моделирование игры\n",
    "Используется генератор случайных чисел и фиксированное количество попыток. С увеличением количества попыток результат должен приближаться к теоретическому."
   ]
  },
  {
   "cell_type": "code",
   "execution_count": 136,
   "metadata": {},
   "outputs": [
    {
     "name": "stdout",
     "output_type": "stream",
     "text": [
      "Количество попыток: 100000, доля выигрышных: 0.20373, выигрыш на вложенный рубль: 0.80112 рублей\n"
     ]
    }
   ],
   "source": [
    "trials = 100000    # Количество попыток\n",
    "\n",
    "no_of_win_trials = 0\n",
    "sum_of_win_trials = 0\n",
    "\n",
    "for trial in range(trials):\n",
    "# генерация рандомного int от 0 до 999 (1000 указано потому, что правая граница не включается) и приведение к 3-значной комбинации\n",
    "    random_int = np.random.randint(0, 1000)    \n",
    "    if random_int < 10:\n",
    "        random_3digit = '00' + str(random_int)\n",
    "    elif random_int < 100:\n",
    "        random_3digit = '0' + str(random_int)\n",
    "    else:\n",
    "        random_3digit = str(random_int)\n",
    "\n",
    "    is_win_trial = 0\n",
    "    for regex_win_figure in list(dict_win_figures_and_values.keys()):\n",
    "        if re.match( regex_win_figure, str(random_3digit) ):\n",
    "            is_win_trial = 1\n",
    "            no_of_win_trials += 1\n",
    "            sum_of_win_trials += dict_win_figures_and_values[regex_win_figure]\n",
    "            break\n",
    "    \n",
    "#     if is_win_trial:\n",
    "#         print(random_int, random_3digit, regex_win_figure, dict_win_figures_and_values[regex_win_figure])\n",
    "#     else:\n",
    "#         print(random_int, random_3digit)\n",
    "\n",
    "print( f'Количество попыток: {trials}, доля выигрышных: {no_of_win_trials / trials}, выигрыш на вложенный рубль: {sum_of_win_trials / trials} рублей' )"
   ]
  },
  {
   "cell_type": "markdown",
   "metadata": {},
   "source": [
    "## Выводы \n",
    "Разумеется, в среднем на большом количестве попыток **игрок теряет**, а не приобретает. Примерный размер потерь - 20 копеек на потраченный рубль (т.е. на одну игру при цене 1р). "
   ]
  }
 ],
 "metadata": {
  "kernelspec": {
   "display_name": "Python 3",
   "language": "python",
   "name": "python3"
  },
  "language_info": {
   "codemirror_mode": {
    "name": "ipython",
    "version": 3
   },
   "file_extension": ".py",
   "mimetype": "text/x-python",
   "name": "python",
   "nbconvert_exporter": "python",
   "pygments_lexer": "ipython3",
   "version": "3.8.3"
  }
 },
 "nbformat": 4,
 "nbformat_minor": 4
}
