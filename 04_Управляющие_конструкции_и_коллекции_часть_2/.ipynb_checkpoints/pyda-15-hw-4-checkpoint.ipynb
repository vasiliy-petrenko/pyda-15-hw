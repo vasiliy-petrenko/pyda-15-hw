{
 "cells": [
  {
   "cell_type": "markdown",
   "metadata": {},
   "source": [
    "# Задание 1\n",
    "Дана переменная, в которой хранится словарь, содержащий гео-метки для каждого пользователя (пример структуры данных приведен ниже). Вам необходимо написать программу, которая выведет на экран множество уникальных гео-меток всех пользователей.\n",
    "\n",
    "Пример работы программы:\n",
    "\n",
    "ids = {‘user1’: [213, 213, 213, 15, 213],\n",
    "‘user2’: [54, 54, 119, 119, 119],\n",
    "‘user3’: [213, 98, 98, 35]}\n",
    "Результат: {98, 35, 15, 213, 54, 119}"
   ]
  },
  {
   "cell_type": "code",
   "execution_count": 67,
   "metadata": {},
   "outputs": [
    {
     "name": "stdout",
     "output_type": "stream",
     "text": [
      "Уникальные гео-метки: {98, 35, 15, 213, 54, 119}\n"
     ]
    }
   ],
   "source": [
    "# исходные данные в виде словаря\n",
    "ids = {\n",
    "'user1': [213, 213, 213, 15, 213],\n",
    "'user2': [54, 54, 119, 119, 119],\n",
    "'user3': [213, 98, 98, 35]\n",
    "}\n",
    "\n",
    "# преобразование значений словаря в список с элементами - списками меток\n",
    "lists_geovalues = list(ids.values())\n",
    "#print(lists_geovalues)\n",
    "\n",
    "list_geovalues_combined = []\n",
    "\n",
    "# добавление в цикле элементов к линейному списку\n",
    "for list_geovalues in lists_geovalues:\n",
    "    #print(list_geovalues)\n",
    "    for geovalue in list_geovalues:\n",
    "        #print(geovalue)\n",
    "        list_geovalues_combined.append(geovalue)\n",
    "    #list2_string = ','.join(item1) \n",
    "    \n",
    "#print(list_geovalues_combined)   \n",
    "\n",
    "# преобразование списка в множество для отсева дубликатов\n",
    "set_geovalues = set(list_geovalues_combined)\n",
    "print(f\"Уникальные гео-метки: {set_geovalues}\")"
   ]
  },
  {
   "cell_type": "markdown",
   "metadata": {},
   "source": [
    "# Задание 2\n",
    "Дана переменная, в которой хранится список поисковых запросов пользователя (пример структуры данных приведен ниже). Вам необходимо написать программу, которая выведет на экран распределение количества слов в запросах в требуемом виде.\n",
    "\n",
    "Пример работы программы:\n",
    "\n",
    "queries = [\n",
    "‘смотреть сериалы онлайн’,\n",
    "‘новости спорта’,\n",
    "‘афиша кино’,\n",
    "‘курс доллара’,\n",
    "‘сериалы этим летом’,\n",
    "‘курс по питону’,\n",
    "‘сериалы про спорт’,\n",
    "]\n",
    "Результат:\n",
    "\n",
    "Поисковых запросов, содержащих 2 слов(а): 42.86%\n",
    "Поисковых запросов, содержащих 3 слов(а): 57.14%"
   ]
  },
  {
   "cell_type": "code",
   "execution_count": 1,
   "metadata": {},
   "outputs": [
    {
     "name": "stdout",
     "output_type": "stream",
     "text": [
      "Поисковых запросов, содержащих 2 слов(а): 0.42857142857142855\n",
      "Поисковых запросов, содержащих 3 слов(а): 0.5714285714285714\n"
     ]
    }
   ],
   "source": [
    "# исходные данные в списке\n",
    "queries = [\n",
    "'смотреть сериалы онлайн',\n",
    "'новости спорта',\n",
    "'афиша кино',\n",
    "'курс доллара',\n",
    "'сериалы этим летом',\n",
    "'курс по питону',\n",
    "'сериалы про спорт',\n",
    "]\n",
    "queries_len = len(queries)\n",
    "\n",
    "queries_wordcounter = []\n",
    "\n",
    "# вставка в цикле элементов в список - количество слов\n",
    "for i, query in enumerate(queries):\n",
    "    # подсчет количества пробелов в строке и вставка в список\n",
    "    queries_wordcounter.insert(i, (query.count(' ') + 1))\n",
    "        \n",
    "#print(queries_wordcounter)\n",
    "\n",
    "# преобразование списка с количествами слов в множество для отсева дублей\n",
    "queries_wordcounter_set = set(queries_wordcounter)\n",
    "queries_wordcounter_set\n",
    "\n",
    "# подсчет статистики вхождений каждого элемента множества\n",
    "for wordcounter in queries_wordcounter_set:\n",
    "    wordcounter_share = queries_wordcounter.count(wordcounter) / queries_len\n",
    "    print(f\"Поисковых запросов, содержащих {wordcounter} слов(а): {wordcounter_share}\")\n",
    "    \n",
    "    \n",
    "    \n",
    "#queries_with_wordcounter_zip = zip(queries, queries_wordcounter)\n",
    "#queries_with_wordcounter_list = list(queries_with_wordcounter)\n",
    "#queries_with_wordcounter_list"
   ]
  },
  {
   "cell_type": "markdown",
   "metadata": {},
   "source": [
    "# Задание 3\n",
    "Дана переменная, в которой хранится информация о затратах и доходе рекламных кампаний по различным источникам. Необходимо дополнить исходную структуру показателем ROI, который рассчитаем по формуле: (revenue / cost - 1) * 100\n",
    "\n",
    "Пример работы программы:\n",
    "\n",
    "results = {\n",
    "‘vk’: {‘revenue’: 103, ‘cost’: 98},\n",
    "‘yandex’: {‘revenue’: 179, ‘cost’: 153},\n",
    "‘facebook’: {‘revenue’: 103, ‘cost’: 110},\n",
    "‘adwords’: {‘revenue’: 35, ‘cost’: 34},\n",
    "‘twitter’: {‘revenue’: 11, ‘cost’: 24},\n",
    "}\n",
    "Результат:\n",
    "\n",
    "{‘adwords’: {‘ROI’: 2.94, ‘cost’: 34, ‘revenue’: 35},\n",
    "‘facebook’: {‘ROI’: -6.36, ‘cost’: 110, ‘revenue’: 103},\n",
    "‘twitter’: {‘ROI’: -54.17, ‘cost’: 24, ‘revenue’: 11},\n",
    "‘vk’: {‘ROI’: 5.1, ‘cost’: 98, ‘revenue’: 103},\n",
    "‘yandex’: {‘ROI’: 16.99, ‘cost’: 153, ‘revenue’: 179}}"
   ]
  },
  {
   "cell_type": "code",
   "execution_count": 2,
   "metadata": {
    "scrolled": true
   },
   "outputs": [
    {
     "name": "stdout",
     "output_type": "stream",
     "text": [
      "{'vk': {'revenue': 103, 'cost': 98, 'roi': 5.102040816326525}, 'yandex': {'revenue': 179, 'cost': 153, 'roi': 16.99346405228759}, 'facebook': {'revenue': 103, 'cost': 110, 'roi': -6.36363636363636}, 'adwords': {'revenue': 35, 'cost': 34, 'roi': 2.941176470588225}, 'twitter': {'revenue': 11, 'cost': 24, 'roi': -54.16666666666667}}\n"
     ]
    }
   ],
   "source": [
    "# исходные данные в словаре\n",
    "results = {\n",
    "'vk': {'revenue': 103, 'cost': 98},\n",
    "'yandex': {'revenue': 179, 'cost': 153},\n",
    "'facebook': {'revenue': 103, 'cost': 110},\n",
    "'adwords': {'revenue': 35, 'cost': 34},\n",
    "'twitter': {'revenue': 11, 'cost': 24},\n",
    "}\n",
    "\n",
    "# разбор в цикле значений словаря и добавление нового столбца значений\n",
    "for result in results:\n",
    "    revenue = results[result]['revenue'] \n",
    "    cost = results[result]['cost']\n",
    "    roi = (revenue / cost - 1) * 100\n",
    "    #print(revenue, cost, roi)\n",
    "    results[result]['roi'] = roi\n",
    "\n",
    "print(results)"
   ]
  },
  {
   "cell_type": "markdown",
   "metadata": {},
   "source": [
    "# Задание 4\n",
    "Дана переменная, в которой хранится статистика рекламных каналов по объемам продаж (пример структуры данных приведен ниже). Напишите программу, которая возвращает название канала с максимальным объемом продаж.\n",
    "\n",
    "Пример работы программы:\n",
    "\n",
    "stats = {‘facebook’: 55, ‘yandex’: 115, ‘vk’: 120, ‘google’: 99, ‘email’: 42, ‘ok’: 98}\n",
    "\n",
    "Результат: Максимальный объем продаж на рекламном канале: vk"
   ]
  },
  {
   "cell_type": "code",
   "execution_count": 3,
   "metadata": {},
   "outputs": [
    {
     "name": "stdout",
     "output_type": "stream",
     "text": [
      "Максимальный объем продаж на рекламном канале: vk\n"
     ]
    }
   ],
   "source": [
    "# исходные данные в виде словаря\n",
    "stats = {'facebook': 55, 'yandex': 115, 'vk': 120, 'google': 99, 'email': 42, 'ok': 98}\n",
    "\n",
    "# преобразование словаря - значения как ключи и наоборот\n",
    "stats_keys_list = list(stats.keys())\n",
    "stats_values_list = list(stats.values())\n",
    "stats_valueskeys_dict = dict(zip(stats_values_list,stats_keys_list))\n",
    "#print(stats_valueskeys_dict)\n",
    "\n",
    "# поиск максимального значения в списке\n",
    "stats_maxvalue = max( stats_values_list )\n",
    "\n",
    "# вывод элемента словаря по ключу - макс.значению\n",
    "stats_keyformaxvalue = stats_valueskeys_dict[stats_maxvalue]\n",
    "\n",
    "print(f\"Максимальный объем продаж на рекламном канале: {stats_keyformaxvalue}\")"
   ]
  }
 ],
 "metadata": {
  "kernelspec": {
   "display_name": "Python 3",
   "language": "python",
   "name": "python3"
  },
  "language_info": {
   "codemirror_mode": {
    "name": "ipython",
    "version": 3
   },
   "file_extension": ".py",
   "mimetype": "text/x-python",
   "name": "python",
   "nbconvert_exporter": "python",
   "pygments_lexer": "ipython3",
   "version": "3.8.3"
  }
 },
 "nbformat": 4,
 "nbformat_minor": 4
}
