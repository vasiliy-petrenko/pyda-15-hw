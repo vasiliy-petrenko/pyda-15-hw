{
 "cells": [
  {
   "cell_type": "markdown",
   "metadata": {},
   "source": [
    "# Задача 1"
   ]
  },
  {
   "cell_type": "code",
   "execution_count": 2,
   "metadata": {},
   "outputs": [
    {
     "name": "stdout",
     "output_type": "stream",
     "text": [
      "es\n"
     ]
    }
   ],
   "source": [
    "mystr = 'test'\n",
    "#print( len(mystr) % 2)\n",
    "if ( len(mystr) % 2 != 0 ):\n",
    "    pos = int( (len(mystr) - 1 ) / 2 )\n",
    "    print(mystr[pos])\n",
    "else:\n",
    "    pos1 = int( len(mystr) / 2 - 1)\n",
    "    pos2 = int( len(mystr) / 2 + 1)\n",
    "    #print(pos1,pos2)\n",
    "    print(mystr[pos1:pos2])"
   ]
  },
  {
   "cell_type": "markdown",
   "metadata": {},
   "source": [
    "# Задача 2"
   ]
  },
  {
   "cell_type": "code",
   "execution_count": 6,
   "metadata": {},
   "outputs": [
    {
     "name": "stdout",
     "output_type": "stream",
     "text": [
      "Итерация 1, введите число8\n",
      "Итерация 2, введите число5\n",
      "Итерация 3, введите число0\n",
      "Результат 13\n"
     ]
    }
   ],
   "source": [
    "flag = 1\n",
    "count = 0\n",
    "usernum = 0\n",
    "while flag != 0:\n",
    "    count += 1\n",
    "    userinput = int(input(f\"Итерация {count}, введите число\"))\n",
    "    if userinput != 0:\n",
    "        usernum += userinput\n",
    "    else:\n",
    "        flag = 0\n",
    "        \n",
    "print('Результат',usernum)"
   ]
  },
  {
   "cell_type": "markdown",
   "metadata": {},
   "source": [
    "# Задача 3"
   ]
  },
  {
   "cell_type": "code",
   "execution_count": 19,
   "metadata": {},
   "outputs": [
    {
     "name": "stdout",
     "output_type": "stream",
     "text": [
      "Alex  и  Emma\n",
      "Arthur  и  Kate\n",
      "John  и  Kira\n",
      "Peter  и  Liza\n",
      "Richard  и  Trisha\n"
     ]
    }
   ],
   "source": [
    "boys = ['Peter', 'Alex', 'John', 'Arthur', 'Richard']\n",
    "girls = ['Kate', 'Liza', 'Kira', 'Emma', 'Trisha']\n",
    "\n",
    "boys_sorted = sorted(boys)\n",
    "girls_sorted = sorted(girls)\n",
    "\n",
    "iter = 0\n",
    "if ( len(boys) == len(girls) ):\n",
    "    flag = 1\n",
    "    while iter <= ( len (boys) - 1 ):\n",
    "        print(boys_sorted[iter], ' и ', girls_sorted[iter])\n",
    "        iter += 1\n",
    "else:\n",
    "    flag = 'Внимание, кто-то может остаться без пары!'\n",
    "    print(flag)"
   ]
  },
  {
   "cell_type": "markdown",
   "metadata": {},
   "source": [
    "# Задача 4"
   ]
  },
  {
   "cell_type": "code",
   "execution_count": 28,
   "metadata": {},
   "outputs": [
    {
     "name": "stdout",
     "output_type": "stream",
     "text": [
      "Thailand\n",
      "23.85714285714285\n",
      "Germany\n",
      "13.799999999999999\n",
      "Russia\n",
      "3.714285714285717\n",
      "Poland\n",
      "11.999999999999996\n"
     ]
    }
   ],
   "source": [
    "countries_temperature = [\n",
    "    ['Thailand', [75.2, 77, 78.8, 73.4, 68, 75.2, 77]],\n",
    "    ['Germany', [57.2, 55.4, 59, 59, 53.6]],\n",
    "    ['Russia', [35.6, 37.4, 39.2, 41, 42.8, 39.2, 35.6]],\n",
    "    ['Poland', [50, 50, 53.6, 57.2, 55.4, 55.4]]\n",
    "]\n",
    "\n",
    "for item in countries_temperature:\n",
    "    country = item[0]\n",
    "    periods = len(item[1])\n",
    "    temperatures = sum(item[1])\n",
    "    avgtemp_farenheit = temperatures / periods\n",
    "    avgtemp_celsium = (avgtemp_farenheit - 32) * 5 / 9\n",
    "    print(country)\n",
    "    #print(periods)\n",
    "    #print(temperatures)\n",
    "    #print(avgtemp_farenheit)\n",
    "    print(avgtemp_celsium)"
   ]
  }
 ],
 "metadata": {
  "kernelspec": {
   "display_name": "Python 3",
   "language": "python",
   "name": "python3"
  },
  "language_info": {
   "codemirror_mode": {
    "name": "ipython",
    "version": 3
   },
   "file_extension": ".py",
   "mimetype": "text/x-python",
   "name": "python",
   "nbconvert_exporter": "python",
   "pygments_lexer": "ipython3",
   "version": "3.8.3"
  }
 },
 "nbformat": 4,
 "nbformat_minor": 4
}
