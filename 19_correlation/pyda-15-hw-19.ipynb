{
 "cells": [
  {
   "cell_type": "code",
   "execution_count": 32,
   "metadata": {},
   "outputs": [],
   "source": [
    "import pandas as pd\n",
    "\n",
    "# штатный механизм Create Model - Supervised Learning Estimators - Linear Regression\n",
    "from sklearn.linear_model import LinearRegression\n",
    "# штатный механизм Training and Test Data из Scikit\n",
    "from sklearn.model_selection import train_test_split\n",
    "\n",
    "import matplotlib.pyplot as plt"
   ]
  },
  {
   "cell_type": "markdown",
   "metadata": {},
   "source": [
    "**Возьмите датасет** Mortality and Water Hardness\n",
    "https://www.kaggle.com/ukveteran/mortality-and-water-hardness\n",
    "\n",
    "В этом датасете содержатся данные по средней годовой смертности на\n",
    "100000 населения и концентрации кальция в питьевой воде для 61\n",
    "большого города в Англии и Уэльсе. Города дополнительно поделены на\n",
    "северные и южные."
   ]
  },
  {
   "cell_type": "code",
   "execution_count": 118,
   "metadata": {
    "scrolled": true
   },
   "outputs": [],
   "source": [
    "# исходный Excel со значениями производственных показателей по площадкам (СК)\n",
    "df = pd.read_csv(r'c:\\Users\\petrenkovn\\Dropbox\\DS-22\\Data_Files\\kaggle_datasets\\water.csv')\n",
    "# сразу копия датафрейма, пригодится при нарезке датасета на две группы\n",
    "df_copy = df\n",
    "\n",
    "# df"
   ]
  },
  {
   "cell_type": "markdown",
   "metadata": {},
   "source": [
    "**Задача - ответить на вопрос**: есть ли связь между жёсткостью воды и средней годовой смертностью?\n",
    "\n",
    "- Построить точечный график\n",
    "- Рассчитать коэффициенты корреляции Пирсона и Спирмена\n",
    "- Построить модель линейной регрессии\n",
    "- Рассчитать коэффициент детерминации\n",
    "- Вывести график остатков"
   ]
  },
  {
   "cell_type": "markdown",
   "metadata": {},
   "source": [
    "**Задание.** Сохраняется ли аналогичная зависимость для северных и южных городов по отдельности?\n",
    "\n",
    "- Разделить данные на 2 группы\n",
    "- Повторить аналогичные шаги из пункта 1 для каждой группы по отдельности"
   ]
  },
  {
   "cell_type": "markdown",
   "metadata": {},
   "source": [
    "# Регрессионная модель для всего датасета"
   ]
  },
  {
   "cell_type": "code",
   "execution_count": 113,
   "metadata": {},
   "outputs": [
    {
     "data": {
      "text/plain": [
       "<matplotlib.axes._subplots.AxesSubplot at 0x22696af2430>"
      ]
     },
     "execution_count": 113,
     "metadata": {},
     "output_type": "execute_result"
    },
    {
     "data": {
      "image/png": "[encoded data removed]",
      "text/plain": [
       "<Figure size 432x288 with 1 Axes>"
      ]
     },
     "metadata": {
      "needs_background": "light"
     },
     "output_type": "display_data"
    }
   ],
   "source": [
    "df.plot(kind='scatter', x='hardness', y='mortality')"
   ]
  },
  {
   "cell_type": "markdown",
   "metadata": {},
   "source": [
    "**Промежуточный вывод при взгляде на график рассеяния**: можно предположить, что есть **обратная зависимость** между смертностью и содержанием кальция."
   ]
  },
  {
   "cell_type": "code",
   "execution_count": 35,
   "metadata": {},
   "outputs": [
    {
     "data": {
      "text/html": [
       "<div>\n",
       "<style scoped>\n",
       "    .dataframe tbody tr th:only-of-type {\n",
       "        vertical-align: middle;\n",
       "    }\n",
       "\n",
       "    .dataframe tbody tr th {\n",
       "        vertical-align: top;\n",
       "    }\n",
       "\n",
       "    .dataframe thead th {\n",
       "        text-align: right;\n",
       "    }\n",
       "</style>\n",
       "<table border=\"1\" class=\"dataframe\">\n",
       "  <thead>\n",
       "    <tr style=\"text-align: right;\">\n",
       "      <th></th>\n",
       "      <th>mortality</th>\n",
       "      <th>hardness</th>\n",
       "    </tr>\n",
       "  </thead>\n",
       "  <tbody>\n",
       "    <tr>\n",
       "      <th>mortality</th>\n",
       "      <td>1.000000</td>\n",
       "      <td>-0.654849</td>\n",
       "    </tr>\n",
       "    <tr>\n",
       "      <th>hardness</th>\n",
       "      <td>-0.654849</td>\n",
       "      <td>1.000000</td>\n",
       "    </tr>\n",
       "  </tbody>\n",
       "</table>\n",
       "</div>"
      ],
      "text/plain": [
       "           mortality  hardness\n",
       "mortality   1.000000 -0.654849\n",
       "hardness   -0.654849  1.000000"
      ]
     },
     "execution_count": 35,
     "metadata": {},
     "output_type": "execute_result"
    }
   ],
   "source": [
    "# расчет коэффициента корелляции между двумя переменными средствами Pandas. По формуле Пирсона либо Кендалла либо Спирмена\n",
    "df[['mortality', 'hardness']].corr()"
   ]
  },
  {
   "cell_type": "markdown",
   "metadata": {},
   "source": [
    "**Коэффициент корреляции -0,65** говорит о достаточно сильной обратной связи (не обязательно причинно-следственной)."
   ]
  },
  {
   "cell_type": "code",
   "execution_count": 36,
   "metadata": {},
   "outputs": [
    {
     "name": "stdout",
     "output_type": "stream",
     "text": [
      "<class 'pandas.core.frame.DataFrame'>\n"
     ]
    }
   ],
   "source": [
    "# определение параметров для линейной регрессии\n",
    "# независимая переменная - датафрейм, в данном случае из одного столбца (ищем корреляцию с одной независимой переменной)\n",
    "# независимая переменная - жесткость воды\n",
    "X = df[['hardness']]\n",
    "print(type(X))\n",
    "# зависимая переменная - серия\n",
    "# зависимая переменная - смертность\n",
    "y = df['mortality']\n",
    "\n",
    "# X, y"
   ]
  },
  {
   "cell_type": "code",
   "execution_count": 37,
   "metadata": {},
   "outputs": [
    {
     "name": "stdout",
     "output_type": "stream",
     "text": [
      "<class 'pandas.core.frame.DataFrame'> <class 'pandas.core.frame.DataFrame'> <class 'pandas.core.series.Series'> <class 'pandas.core.series.Series'>\n"
     ]
    }
   ],
   "source": [
    "# разделение на тренировочный сегмент и тестовый сегмент с помощью специального метода. \n",
    "# Random_state=42 это бестпрактис, еще можно 0\n",
    "X_train, X_test, y_train, y_test = train_test_split(X, y, test_size=0.30, random_state=42)\n",
    "print(type(X_train),type(X_test),type(y_train),type(y_test))"
   ]
  },
  {
   "cell_type": "code",
   "execution_count": 38,
   "metadata": {},
   "outputs": [
    {
     "name": "stdout",
     "output_type": "stream",
     "text": [
      "<class 'sklearn.linear_model._base.LinearRegression'>\n"
     ]
    },
    {
     "data": {
      "text/plain": [
       "(array([-3.13167087]), 1668.9722977277095)"
      ]
     },
     "execution_count": 38,
     "metadata": {},
     "output_type": "execute_result"
    }
   ],
   "source": [
    "# создание объекта на основе класса\n",
    "model = LinearRegression()\n",
    "print(type(model))\n",
    "\n",
    "# запуск обучения - метод класса. \"Fit linear model\". Механизм SciKit - Model Fitting - Supervised learning\n",
    "model.fit(X_train, y_train)  # метод обучается на данных и подбирает оптимальные коэффициенты\n",
    "\n",
    "# результаты модели - атрибут класса. Массив Numpy коэффициентов независимых переменных. В нашем случае один элемент.\n",
    "# результаты модели - атрибут класса. Независимый член\n",
    "model.coef_, model.intercept_"
   ]
  },
  {
   "cell_type": "markdown",
   "metadata": {},
   "source": [
    "**Уравнение линейной регрессии:**"
   ]
  },
  {
   "cell_type": "code",
   "execution_count": 39,
   "metadata": {},
   "outputs": [
    {
     "name": "stdout",
     "output_type": "stream",
     "text": [
      "mortality = -3.1316708721378266 * hardness + 1668.9722977277095\n"
     ]
    }
   ],
   "source": [
    "lr_coef = model.coef_[0]\n",
    "lr_const = model.intercept_\n",
    "\n",
    "print(f'mortality = {lr_coef} * hardness + {lr_const}')"
   ]
  },
  {
   "cell_type": "code",
   "execution_count": 40,
   "metadata": {},
   "outputs": [],
   "source": [
    "# запуск прогнозирования - метод класса. \"Predict using the linear model\". На входе - тестовый сегмент, независимая переменная. Механизм SciKit - Prediction - Supervised estimators\n",
    "y_pred = model.predict(X_test)"
   ]
  },
  {
   "cell_type": "code",
   "execution_count": 41,
   "metadata": {},
   "outputs": [
    {
     "data": {
      "text/plain": [
       "0.5046490611017092"
      ]
     },
     "execution_count": 41,
     "metadata": {},
     "output_type": "execute_result"
    }
   ],
   "source": [
    "# оценка модели - метод класса. \"Return the coefficient of determination  of the prediction\". На входе - тестовый сегмент, и зависимая и независимая переменная. Механизм SciKit - Evaluate Model Performance - Classification Metrics (Estomator score method)\n",
    "model.score(X_test, y_test) # метод возвращает значение коэффициента детерминации"
   ]
  },
  {
   "cell_type": "markdown",
   "metadata": {},
   "source": [
    "**Коэффициент детерминации 0,5** говорит о том, что 50% дисперсии зависимой переменной определяются независимой переменной. Довольно значительно."
   ]
  },
  {
   "cell_type": "code",
   "execution_count": null,
   "metadata": {},
   "outputs": [],
   "source": []
  },
  {
   "cell_type": "markdown",
   "metadata": {},
   "source": [
    "**Сравнение результатов регрессионной модели с фактическими данными** на тестовом сегменте"
   ]
  },
  {
   "cell_type": "code",
   "execution_count": 42,
   "metadata": {},
   "outputs": [
    {
     "data": {
      "text/plain": [
       "[<matplotlib.lines.Line2D at 0x226953d5490>]"
      ]
     },
     "execution_count": 42,
     "metadata": {},
     "output_type": "execute_result"
    },
    {
     "data": {
      "image/png": "[encoded data removed]",
      "text/plain": [
       "<Figure size 432x288 with 1 Axes>"
      ]
     },
     "metadata": {
      "needs_background": "light"
     },
     "output_type": "display_data"
    }
   ],
   "source": [
    "# вывод скаттерплота тестовых сегментов\n",
    "plt.scatter(X_test, y_test)\n",
    "# вывод линии тестовый сегмент независимой переменной, спрогнозированный сегмент\n",
    "plt.plot(X_test, y_pred, c='r')"
   ]
  },
  {
   "cell_type": "markdown",
   "metadata": {},
   "source": [
    "Фактические наблюдения распределены более-менее одинаково относительно линии регрессии."
   ]
  },
  {
   "cell_type": "markdown",
   "metadata": {},
   "source": [
    "**Анализ остатков**"
   ]
  },
  {
   "cell_type": "code",
   "execution_count": 47,
   "metadata": {},
   "outputs": [
    {
     "data": {
      "text/html": [
       "<div>\n",
       "<style scoped>\n",
       "    .dataframe tbody tr th:only-of-type {\n",
       "        vertical-align: middle;\n",
       "    }\n",
       "\n",
       "    .dataframe tbody tr th {\n",
       "        vertical-align: top;\n",
       "    }\n",
       "\n",
       "    .dataframe thead th {\n",
       "        text-align: right;\n",
       "    }\n",
       "</style>\n",
       "<table border=\"1\" class=\"dataframe\">\n",
       "  <thead>\n",
       "    <tr style=\"text-align: right;\">\n",
       "      <th></th>\n",
       "      <th>Unnamed: 0</th>\n",
       "      <th>location</th>\n",
       "      <th>town</th>\n",
       "      <th>mortality</th>\n",
       "      <th>hardness</th>\n",
       "      <th>mortality.predicted</th>\n",
       "      <th>mortality.resid</th>\n",
       "    </tr>\n",
       "  </thead>\n",
       "  <tbody>\n",
       "    <tr>\n",
       "      <th>0</th>\n",
       "      <td>1</td>\n",
       "      <td>South</td>\n",
       "      <td>Bath</td>\n",
       "      <td>1247</td>\n",
       "      <td>105</td>\n",
       "      <td>1340.146856</td>\n",
       "      <td>-93.146856</td>\n",
       "    </tr>\n",
       "    <tr>\n",
       "      <th>1</th>\n",
       "      <td>2</td>\n",
       "      <td>North</td>\n",
       "      <td>Birkenhead</td>\n",
       "      <td>1668</td>\n",
       "      <td>17</td>\n",
       "      <td>1615.733893</td>\n",
       "      <td>52.266107</td>\n",
       "    </tr>\n",
       "    <tr>\n",
       "      <th>2</th>\n",
       "      <td>3</td>\n",
       "      <td>South</td>\n",
       "      <td>Birmingham</td>\n",
       "      <td>1466</td>\n",
       "      <td>5</td>\n",
       "      <td>1653.313943</td>\n",
       "      <td>-187.313943</td>\n",
       "    </tr>\n",
       "    <tr>\n",
       "      <th>3</th>\n",
       "      <td>4</td>\n",
       "      <td>North</td>\n",
       "      <td>Blackburn</td>\n",
       "      <td>1800</td>\n",
       "      <td>14</td>\n",
       "      <td>1625.128906</td>\n",
       "      <td>174.871094</td>\n",
       "    </tr>\n",
       "    <tr>\n",
       "      <th>4</th>\n",
       "      <td>5</td>\n",
       "      <td>North</td>\n",
       "      <td>Blackpool</td>\n",
       "      <td>1609</td>\n",
       "      <td>18</td>\n",
       "      <td>1612.602222</td>\n",
       "      <td>-3.602222</td>\n",
       "    </tr>\n",
       "    <tr>\n",
       "      <th>...</th>\n",
       "      <td>...</td>\n",
       "      <td>...</td>\n",
       "      <td>...</td>\n",
       "      <td>...</td>\n",
       "      <td>...</td>\n",
       "      <td>...</td>\n",
       "      <td>...</td>\n",
       "    </tr>\n",
       "    <tr>\n",
       "      <th>56</th>\n",
       "      <td>57</td>\n",
       "      <td>South</td>\n",
       "      <td>Walsall</td>\n",
       "      <td>1527</td>\n",
       "      <td>60</td>\n",
       "      <td>1481.072045</td>\n",
       "      <td>45.927955</td>\n",
       "    </tr>\n",
       "    <tr>\n",
       "      <th>57</th>\n",
       "      <td>58</td>\n",
       "      <td>South</td>\n",
       "      <td>West Bromwich</td>\n",
       "      <td>1627</td>\n",
       "      <td>53</td>\n",
       "      <td>1502.993742</td>\n",
       "      <td>124.006258</td>\n",
       "    </tr>\n",
       "    <tr>\n",
       "      <th>58</th>\n",
       "      <td>59</td>\n",
       "      <td>South</td>\n",
       "      <td>West Ham</td>\n",
       "      <td>1486</td>\n",
       "      <td>122</td>\n",
       "      <td>1286.908451</td>\n",
       "      <td>199.091549</td>\n",
       "    </tr>\n",
       "    <tr>\n",
       "      <th>59</th>\n",
       "      <td>60</td>\n",
       "      <td>South</td>\n",
       "      <td>Wolverhampton</td>\n",
       "      <td>1485</td>\n",
       "      <td>81</td>\n",
       "      <td>1415.306957</td>\n",
       "      <td>69.693043</td>\n",
       "    </tr>\n",
       "    <tr>\n",
       "      <th>60</th>\n",
       "      <td>61</td>\n",
       "      <td>North</td>\n",
       "      <td>York</td>\n",
       "      <td>1378</td>\n",
       "      <td>71</td>\n",
       "      <td>1446.623666</td>\n",
       "      <td>-68.623666</td>\n",
       "    </tr>\n",
       "  </tbody>\n",
       "</table>\n",
       "<p>61 rows × 7 columns</p>\n",
       "</div>"
      ],
      "text/plain": [
       "    Unnamed: 0 location           town  mortality  hardness  \\\n",
       "0            1    South           Bath       1247       105   \n",
       "1            2    North     Birkenhead       1668        17   \n",
       "2            3    South     Birmingham       1466         5   \n",
       "3            4    North      Blackburn       1800        14   \n",
       "4            5    North      Blackpool       1609        18   \n",
       "..         ...      ...            ...        ...       ...   \n",
       "56          57    South        Walsall       1527        60   \n",
       "57          58    South  West Bromwich       1627        53   \n",
       "58          59    South       West Ham       1486       122   \n",
       "59          60    South  Wolverhampton       1485        81   \n",
       "60          61    North           York       1378        71   \n",
       "\n",
       "    mortality.predicted  mortality.resid  \n",
       "0           1340.146856       -93.146856  \n",
       "1           1615.733893        52.266107  \n",
       "2           1653.313943      -187.313943  \n",
       "3           1625.128906       174.871094  \n",
       "4           1612.602222        -3.602222  \n",
       "..                  ...              ...  \n",
       "56          1481.072045        45.927955  \n",
       "57          1502.993742       124.006258  \n",
       "58          1286.908451       199.091549  \n",
       "59          1415.306957        69.693043  \n",
       "60          1446.623666       -68.623666  \n",
       "\n",
       "[61 rows x 7 columns]"
      ]
     },
     "execution_count": 47,
     "metadata": {},
     "output_type": "execute_result"
    }
   ],
   "source": [
    "# расчет остатков на всем множестве данных\n",
    "df['mortality.predicted'] = lr_coef * df['hardness'] + lr_const\n",
    "df['mortality.resid'] = df['mortality'] - df['mortality.predicted']\n",
    "\n",
    "df"
   ]
  },
  {
   "cell_type": "code",
   "execution_count": 45,
   "metadata": {},
   "outputs": [
    {
     "data": {
      "text/plain": [
       "<matplotlib.collections.PathCollection at 0x22695420e80>"
      ]
     },
     "execution_count": 45,
     "metadata": {},
     "output_type": "execute_result"
    },
    {
     "data": {
      "image/png": "[encoded data removed]",
      "text/plain": [
       "<Figure size 432x288 with 1 Axes>"
      ]
     },
     "metadata": {
      "needs_background": "light"
     },
     "output_type": "display_data"
    }
   ],
   "source": [
    "plt.scatter(df['hardness'], df['mortality.resid'])"
   ]
  },
  {
   "cell_type": "code",
   "execution_count": 46,
   "metadata": {},
   "outputs": [
    {
     "data": {
      "text/plain": [
       "(array([ 1.,  1.,  8., 12.,  9.,  8.,  9., 10.,  2.,  1.]),\n",
       " array([-3.43207209e+02, -2.74578382e+02, -2.05949554e+02, -1.37320726e+02,\n",
       "        -6.86918979e+01, -6.30700817e-02,  6.85657578e+01,  1.37194586e+02,\n",
       "         2.05823414e+02,  2.74452241e+02,  3.43081069e+02]),\n",
       " <a list of 10 Patch objects>)"
      ]
     },
     "execution_count": 46,
     "metadata": {},
     "output_type": "execute_result"
    },
    {
     "data": {
      "image/png": "[encoded data removed]",
      "text/plain": [
       "<Figure size 432x288 with 1 Axes>"
      ]
     },
     "metadata": {
      "needs_background": "light"
     },
     "output_type": "display_data"
    }
   ],
   "source": [
    "plt.hist(df['mortality.resid'])"
   ]
  },
  {
   "cell_type": "markdown",
   "metadata": {},
   "source": [
    "**Вывод по графикам остатков**: распределены хаотично, без особых закономерностей и систематических составляющих. Качество модели вполне хорошее для всего датасета."
   ]
  },
  {
   "cell_type": "code",
   "execution_count": null,
   "metadata": {},
   "outputs": [],
   "source": []
  },
  {
   "cell_type": "markdown",
   "metadata": {},
   "source": [
    "# Регрессионная модель для подмножества датасета - *северные* города"
   ]
  },
  {
   "cell_type": "code",
   "execution_count": 114,
   "metadata": {},
   "outputs": [],
   "source": [
    "df = df_copy[ df_copy['location'] == 'North' ]\n",
    "\n",
    "# df"
   ]
  },
  {
   "cell_type": "code",
   "execution_count": 115,
   "metadata": {},
   "outputs": [
    {
     "data": {
      "text/plain": [
       "<matplotlib.axes._subplots.AxesSubplot at 0x22696b494c0>"
      ]
     },
     "execution_count": 115,
     "metadata": {},
     "output_type": "execute_result"
    },
    {
     "data": {
      "image/png": "[encoded data removed]",
      "text/plain": [
       "<Figure size 432x288 with 1 Axes>"
      ]
     },
     "metadata": {
      "needs_background": "light"
     },
     "output_type": "display_data"
    }
   ],
   "source": [
    "df.plot(kind='scatter', x='hardness', y='mortality')"
   ]
  },
  {
   "cell_type": "markdown",
   "metadata": {},
   "source": [
    "**Промежуточный вывод при взгляде на график рассеяния**: можно предположить, что есть **довольно слабая обратная зависимость** между смертностью и содержанием кальция, совсем не такая, как на всем датасете."
   ]
  },
  {
   "cell_type": "code",
   "execution_count": 50,
   "metadata": {},
   "outputs": [
    {
     "data": {
      "text/html": [
       "<div>\n",
       "<style scoped>\n",
       "    .dataframe tbody tr th:only-of-type {\n",
       "        vertical-align: middle;\n",
       "    }\n",
       "\n",
       "    .dataframe tbody tr th {\n",
       "        vertical-align: top;\n",
       "    }\n",
       "\n",
       "    .dataframe thead th {\n",
       "        text-align: right;\n",
       "    }\n",
       "</style>\n",
       "<table border=\"1\" class=\"dataframe\">\n",
       "  <thead>\n",
       "    <tr style=\"text-align: right;\">\n",
       "      <th></th>\n",
       "      <th>mortality</th>\n",
       "      <th>hardness</th>\n",
       "    </tr>\n",
       "  </thead>\n",
       "  <tbody>\n",
       "    <tr>\n",
       "      <th>mortality</th>\n",
       "      <td>1.000000</td>\n",
       "      <td>-0.368598</td>\n",
       "    </tr>\n",
       "    <tr>\n",
       "      <th>hardness</th>\n",
       "      <td>-0.368598</td>\n",
       "      <td>1.000000</td>\n",
       "    </tr>\n",
       "  </tbody>\n",
       "</table>\n",
       "</div>"
      ],
      "text/plain": [
       "           mortality  hardness\n",
       "mortality   1.000000 -0.368598\n",
       "hardness   -0.368598  1.000000"
      ]
     },
     "execution_count": 50,
     "metadata": {},
     "output_type": "execute_result"
    }
   ],
   "source": [
    "# расчет коэффициента корелляции между двумя переменными средствами Pandas. По формуле Пирсона либо Кендалла либо Спирмена\n",
    "df[['mortality', 'hardness']].corr()"
   ]
  },
  {
   "cell_type": "markdown",
   "metadata": {},
   "source": [
    "**Коэффициент корреляции -0,36** говорит о **слабой** обратной связи (не обязательно причинно-следственной)."
   ]
  },
  {
   "cell_type": "code",
   "execution_count": 51,
   "metadata": {},
   "outputs": [
    {
     "name": "stdout",
     "output_type": "stream",
     "text": [
      "<class 'pandas.core.frame.DataFrame'>\n"
     ]
    }
   ],
   "source": [
    "# определение параметров для линейной регрессии\n",
    "# независимая переменная - датафрейм, в данном случае из одного столбца (ищем корреляцию с одной независимой переменной)\n",
    "# независимая переменная - жесткость воды\n",
    "X = df[['hardness']]\n",
    "print(type(X))\n",
    "# зависимая переменная - серия\n",
    "# зависимая переменная - смертность\n",
    "y = df['mortality']\n",
    "\n",
    "# X, y"
   ]
  },
  {
   "cell_type": "code",
   "execution_count": 52,
   "metadata": {},
   "outputs": [
    {
     "name": "stdout",
     "output_type": "stream",
     "text": [
      "<class 'pandas.core.frame.DataFrame'> <class 'pandas.core.frame.DataFrame'> <class 'pandas.core.series.Series'> <class 'pandas.core.series.Series'>\n"
     ]
    }
   ],
   "source": [
    "# разделение на тренировочный сегмент и тестовый сегмент с помощью специального метода. \n",
    "# Random_state=42 это бестпрактис, еще можно 0\n",
    "X_train, X_test, y_train, y_test = train_test_split(X, y, test_size=0.30, random_state=42)\n",
    "print(type(X_train),type(X_test),type(y_train),type(y_test))"
   ]
  },
  {
   "cell_type": "code",
   "execution_count": 53,
   "metadata": {},
   "outputs": [
    {
     "name": "stdout",
     "output_type": "stream",
     "text": [
      "<class 'sklearn.linear_model._base.LinearRegression'>\n"
     ]
    },
    {
     "data": {
      "text/plain": [
       "(array([-1.97686226]), 1688.150229031281)"
      ]
     },
     "execution_count": 53,
     "metadata": {},
     "output_type": "execute_result"
    }
   ],
   "source": [
    "# создание объекта на основе класса\n",
    "model = LinearRegression()\n",
    "print(type(model))\n",
    "\n",
    "# запуск обучения - метод класса. \"Fit linear model\". Механизм SciKit - Model Fitting - Supervised learning\n",
    "model.fit(X_train, y_train)  # метод обучается на данных и подбирает оптимальные коэффициенты\n",
    "\n",
    "# результаты модели - атрибут класса. Массив Numpy коэффициентов независимых переменных. В нашем случае один элемент.\n",
    "# результаты модели - атрибут класса. Независимый член\n",
    "model.coef_, model.intercept_"
   ]
  },
  {
   "cell_type": "markdown",
   "metadata": {},
   "source": [
    "**Уравнение линейной регрессии:**"
   ]
  },
  {
   "cell_type": "code",
   "execution_count": 54,
   "metadata": {},
   "outputs": [
    {
     "name": "stdout",
     "output_type": "stream",
     "text": [
      "mortality = -1.9768622600638235 * hardness + 1688.150229031281\n"
     ]
    }
   ],
   "source": [
    "lr_coef = model.coef_[0]\n",
    "lr_const = model.intercept_\n",
    "\n",
    "print(f'mortality = {lr_coef} * hardness + {lr_const}')"
   ]
  },
  {
   "cell_type": "code",
   "execution_count": 55,
   "metadata": {},
   "outputs": [],
   "source": [
    "# запуск прогнозирования - метод класса. \"Predict using the linear model\". На входе - тестовый сегмент, независимая переменная. Механизм SciKit - Prediction - Supervised estimators\n",
    "y_pred = model.predict(X_test)"
   ]
  },
  {
   "cell_type": "code",
   "execution_count": 56,
   "metadata": {},
   "outputs": [
    {
     "data": {
      "text/plain": [
       "0.018885304285745863"
      ]
     },
     "execution_count": 56,
     "metadata": {},
     "output_type": "execute_result"
    }
   ],
   "source": [
    "# оценка модели - метод класса. \"Return the coefficient of determination  of the prediction\". На входе - тестовый сегмент, и зависимая и независимая переменная. Механизм SciKit - Evaluate Model Performance - Classification Metrics (Estomator score method)\n",
    "model.score(X_test, y_test) # метод возвращает значение коэффициента детерминации"
   ]
  },
  {
   "cell_type": "markdown",
   "metadata": {},
   "source": [
    " **Коэффициент детерминации 0,02** говорит о том, что дисперсия зависимой переменной почти не объясняется дисперсией независимой и сложена скорее из дисперсии остатков."
   ]
  },
  {
   "cell_type": "code",
   "execution_count": null,
   "metadata": {},
   "outputs": [],
   "source": []
  },
  {
   "cell_type": "markdown",
   "metadata": {},
   "source": [
    "**Сравнение результатов регрессионной модели с фактическими данными** на тестовом сегменте"
   ]
  },
  {
   "cell_type": "code",
   "execution_count": 57,
   "metadata": {},
   "outputs": [
    {
     "data": {
      "text/plain": [
       "[<matplotlib.lines.Line2D at 0x2269554f670>]"
      ]
     },
     "execution_count": 57,
     "metadata": {},
     "output_type": "execute_result"
    },
    {
     "data": {
      "image/png": "[encoded data removed]",
      "text/plain": [
       "<Figure size 432x288 with 1 Axes>"
      ]
     },
     "metadata": {
      "needs_background": "light"
     },
     "output_type": "display_data"
    }
   ],
   "source": [
    "# вывод скаттерплота тестовых сегментов\n",
    "plt.scatter(X_test, y_test)\n",
    "# вывод линии тестовый сегмент независимой переменной, спрогнозированный сегмент\n",
    "plt.plot(X_test, y_pred, c='r')"
   ]
  },
  {
   "cell_type": "markdown",
   "metadata": {},
   "source": [
    "Фактические наблюдения распределены более-менее одинаково относительно линии регрессии."
   ]
  },
  {
   "cell_type": "markdown",
   "metadata": {},
   "source": [
    "**Анализ остатков**"
   ]
  },
  {
   "cell_type": "code",
   "execution_count": 58,
   "metadata": {},
   "outputs": [
    {
     "name": "stderr",
     "output_type": "stream",
     "text": [
      "<ipython-input-58-8b2f90eb036b>:2: SettingWithCopyWarning: \n",
      "A value is trying to be set on a copy of a slice from a DataFrame.\n",
      "Try using .loc[row_indexer,col_indexer] = value instead\n",
      "\n",
      "See the caveats in the documentation: https://pandas.pydata.org/pandas-docs/stable/user_guide/indexing.html#returning-a-view-versus-a-copy\n",
      "  df['mortality.predicted'] = lr_coef * df['hardness'] + lr_const\n",
      "<ipython-input-58-8b2f90eb036b>:3: SettingWithCopyWarning: \n",
      "A value is trying to be set on a copy of a slice from a DataFrame.\n",
      "Try using .loc[row_indexer,col_indexer] = value instead\n",
      "\n",
      "See the caveats in the documentation: https://pandas.pydata.org/pandas-docs/stable/user_guide/indexing.html#returning-a-view-versus-a-copy\n",
      "  df['mortality.resid'] = df['mortality'] - df['mortality.predicted']\n"
     ]
    },
    {
     "data": {
      "text/html": [
       "<div>\n",
       "<style scoped>\n",
       "    .dataframe tbody tr th:only-of-type {\n",
       "        vertical-align: middle;\n",
       "    }\n",
       "\n",
       "    .dataframe tbody tr th {\n",
       "        vertical-align: top;\n",
       "    }\n",
       "\n",
       "    .dataframe thead th {\n",
       "        text-align: right;\n",
       "    }\n",
       "</style>\n",
       "<table border=\"1\" class=\"dataframe\">\n",
       "  <thead>\n",
       "    <tr style=\"text-align: right;\">\n",
       "      <th></th>\n",
       "      <th>Unnamed: 0</th>\n",
       "      <th>location</th>\n",
       "      <th>town</th>\n",
       "      <th>mortality</th>\n",
       "      <th>hardness</th>\n",
       "      <th>mortality.predicted</th>\n",
       "      <th>mortality.resid</th>\n",
       "    </tr>\n",
       "  </thead>\n",
       "  <tbody>\n",
       "    <tr>\n",
       "      <th>1</th>\n",
       "      <td>2</td>\n",
       "      <td>North</td>\n",
       "      <td>Birkenhead</td>\n",
       "      <td>1668</td>\n",
       "      <td>17</td>\n",
       "      <td>1654.543571</td>\n",
       "      <td>13.456429</td>\n",
       "    </tr>\n",
       "    <tr>\n",
       "      <th>3</th>\n",
       "      <td>4</td>\n",
       "      <td>North</td>\n",
       "      <td>Blackburn</td>\n",
       "      <td>1800</td>\n",
       "      <td>14</td>\n",
       "      <td>1660.474157</td>\n",
       "      <td>139.525843</td>\n",
       "    </tr>\n",
       "    <tr>\n",
       "      <th>4</th>\n",
       "      <td>5</td>\n",
       "      <td>North</td>\n",
       "      <td>Blackpool</td>\n",
       "      <td>1609</td>\n",
       "      <td>18</td>\n",
       "      <td>1652.566708</td>\n",
       "      <td>-43.566708</td>\n",
       "    </tr>\n",
       "    <tr>\n",
       "      <th>5</th>\n",
       "      <td>6</td>\n",
       "      <td>North</td>\n",
       "      <td>Bolton</td>\n",
       "      <td>1558</td>\n",
       "      <td>10</td>\n",
       "      <td>1668.381606</td>\n",
       "      <td>-110.381606</td>\n",
       "    </tr>\n",
       "    <tr>\n",
       "      <th>6</th>\n",
       "      <td>7</td>\n",
       "      <td>North</td>\n",
       "      <td>Bootle</td>\n",
       "      <td>1807</td>\n",
       "      <td>15</td>\n",
       "      <td>1658.497295</td>\n",
       "      <td>148.502705</td>\n",
       "    </tr>\n",
       "    <tr>\n",
       "      <th>8</th>\n",
       "      <td>9</td>\n",
       "      <td>North</td>\n",
       "      <td>Bradford</td>\n",
       "      <td>1637</td>\n",
       "      <td>10</td>\n",
       "      <td>1668.381606</td>\n",
       "      <td>-31.381606</td>\n",
       "    </tr>\n",
       "    <tr>\n",
       "      <th>11</th>\n",
       "      <td>12</td>\n",
       "      <td>North</td>\n",
       "      <td>Burnley</td>\n",
       "      <td>1755</td>\n",
       "      <td>12</td>\n",
       "      <td>1664.427882</td>\n",
       "      <td>90.572118</td>\n",
       "    </tr>\n",
       "    <tr>\n",
       "      <th>15</th>\n",
       "      <td>16</td>\n",
       "      <td>North</td>\n",
       "      <td>Darlington</td>\n",
       "      <td>1491</td>\n",
       "      <td>20</td>\n",
       "      <td>1648.612984</td>\n",
       "      <td>-157.612984</td>\n",
       "    </tr>\n",
       "    <tr>\n",
       "      <th>16</th>\n",
       "      <td>17</td>\n",
       "      <td>North</td>\n",
       "      <td>Derby</td>\n",
       "      <td>1555</td>\n",
       "      <td>39</td>\n",
       "      <td>1611.052601</td>\n",
       "      <td>-56.052601</td>\n",
       "    </tr>\n",
       "    <tr>\n",
       "      <th>17</th>\n",
       "      <td>18</td>\n",
       "      <td>North</td>\n",
       "      <td>Doncaster</td>\n",
       "      <td>1428</td>\n",
       "      <td>39</td>\n",
       "      <td>1611.052601</td>\n",
       "      <td>-183.052601</td>\n",
       "    </tr>\n",
       "    <tr>\n",
       "      <th>20</th>\n",
       "      <td>21</td>\n",
       "      <td>North</td>\n",
       "      <td>Gateshead</td>\n",
       "      <td>1723</td>\n",
       "      <td>44</td>\n",
       "      <td>1601.168290</td>\n",
       "      <td>121.831710</td>\n",
       "    </tr>\n",
       "    <tr>\n",
       "      <th>21</th>\n",
       "      <td>22</td>\n",
       "      <td>North</td>\n",
       "      <td>Grimsby</td>\n",
       "      <td>1379</td>\n",
       "      <td>94</td>\n",
       "      <td>1502.325177</td>\n",
       "      <td>-123.325177</td>\n",
       "    </tr>\n",
       "    <tr>\n",
       "      <th>22</th>\n",
       "      <td>23</td>\n",
       "      <td>North</td>\n",
       "      <td>Halifax</td>\n",
       "      <td>1742</td>\n",
       "      <td>8</td>\n",
       "      <td>1672.335331</td>\n",
       "      <td>69.664669</td>\n",
       "    </tr>\n",
       "    <tr>\n",
       "      <th>23</th>\n",
       "      <td>24</td>\n",
       "      <td>North</td>\n",
       "      <td>Huddersfield</td>\n",
       "      <td>1574</td>\n",
       "      <td>9</td>\n",
       "      <td>1670.358469</td>\n",
       "      <td>-96.358469</td>\n",
       "    </tr>\n",
       "    <tr>\n",
       "      <th>24</th>\n",
       "      <td>25</td>\n",
       "      <td>North</td>\n",
       "      <td>Hull</td>\n",
       "      <td>1569</td>\n",
       "      <td>91</td>\n",
       "      <td>1508.255763</td>\n",
       "      <td>60.744237</td>\n",
       "    </tr>\n",
       "    <tr>\n",
       "      <th>26</th>\n",
       "      <td>27</td>\n",
       "      <td>North</td>\n",
       "      <td>Leeds</td>\n",
       "      <td>1591</td>\n",
       "      <td>16</td>\n",
       "      <td>1656.520433</td>\n",
       "      <td>-65.520433</td>\n",
       "    </tr>\n",
       "    <tr>\n",
       "      <th>28</th>\n",
       "      <td>29</td>\n",
       "      <td>North</td>\n",
       "      <td>Liverpool</td>\n",
       "      <td>1772</td>\n",
       "      <td>15</td>\n",
       "      <td>1658.497295</td>\n",
       "      <td>113.502705</td>\n",
       "    </tr>\n",
       "    <tr>\n",
       "      <th>29</th>\n",
       "      <td>30</td>\n",
       "      <td>North</td>\n",
       "      <td>Manchester</td>\n",
       "      <td>1828</td>\n",
       "      <td>8</td>\n",
       "      <td>1672.335331</td>\n",
       "      <td>155.664669</td>\n",
       "    </tr>\n",
       "    <tr>\n",
       "      <th>30</th>\n",
       "      <td>31</td>\n",
       "      <td>North</td>\n",
       "      <td>Middlesbrough</td>\n",
       "      <td>1704</td>\n",
       "      <td>26</td>\n",
       "      <td>1636.751810</td>\n",
       "      <td>67.248190</td>\n",
       "    </tr>\n",
       "    <tr>\n",
       "      <th>31</th>\n",
       "      <td>32</td>\n",
       "      <td>North</td>\n",
       "      <td>Newcastle</td>\n",
       "      <td>1702</td>\n",
       "      <td>44</td>\n",
       "      <td>1601.168290</td>\n",
       "      <td>100.831710</td>\n",
       "    </tr>\n",
       "    <tr>\n",
       "      <th>35</th>\n",
       "      <td>36</td>\n",
       "      <td>North</td>\n",
       "      <td>Nottingham</td>\n",
       "      <td>1427</td>\n",
       "      <td>27</td>\n",
       "      <td>1634.774948</td>\n",
       "      <td>-207.774948</td>\n",
       "    </tr>\n",
       "    <tr>\n",
       "      <th>36</th>\n",
       "      <td>37</td>\n",
       "      <td>North</td>\n",
       "      <td>Oldham</td>\n",
       "      <td>1724</td>\n",
       "      <td>6</td>\n",
       "      <td>1676.289055</td>\n",
       "      <td>47.710945</td>\n",
       "    </tr>\n",
       "    <tr>\n",
       "      <th>40</th>\n",
       "      <td>41</td>\n",
       "      <td>North</td>\n",
       "      <td>Preston</td>\n",
       "      <td>1696</td>\n",
       "      <td>6</td>\n",
       "      <td>1676.289055</td>\n",
       "      <td>19.710945</td>\n",
       "    </tr>\n",
       "    <tr>\n",
       "      <th>42</th>\n",
       "      <td>43</td>\n",
       "      <td>North</td>\n",
       "      <td>Rochdale</td>\n",
       "      <td>1711</td>\n",
       "      <td>13</td>\n",
       "      <td>1662.451020</td>\n",
       "      <td>48.548980</td>\n",
       "    </tr>\n",
       "    <tr>\n",
       "      <th>43</th>\n",
       "      <td>44</td>\n",
       "      <td>North</td>\n",
       "      <td>Rotherham</td>\n",
       "      <td>1444</td>\n",
       "      <td>14</td>\n",
       "      <td>1660.474157</td>\n",
       "      <td>-216.474157</td>\n",
       "    </tr>\n",
       "    <tr>\n",
       "      <th>44</th>\n",
       "      <td>45</td>\n",
       "      <td>North</td>\n",
       "      <td>St Helens</td>\n",
       "      <td>1591</td>\n",
       "      <td>49</td>\n",
       "      <td>1591.283978</td>\n",
       "      <td>-0.283978</td>\n",
       "    </tr>\n",
       "    <tr>\n",
       "      <th>45</th>\n",
       "      <td>46</td>\n",
       "      <td>North</td>\n",
       "      <td>Salford</td>\n",
       "      <td>1987</td>\n",
       "      <td>8</td>\n",
       "      <td>1672.335331</td>\n",
       "      <td>314.664669</td>\n",
       "    </tr>\n",
       "    <tr>\n",
       "      <th>46</th>\n",
       "      <td>47</td>\n",
       "      <td>North</td>\n",
       "      <td>Sheffield</td>\n",
       "      <td>1495</td>\n",
       "      <td>14</td>\n",
       "      <td>1660.474157</td>\n",
       "      <td>-165.474157</td>\n",
       "    </tr>\n",
       "    <tr>\n",
       "      <th>49</th>\n",
       "      <td>50</td>\n",
       "      <td>North</td>\n",
       "      <td>Southport</td>\n",
       "      <td>1587</td>\n",
       "      <td>75</td>\n",
       "      <td>1539.885560</td>\n",
       "      <td>47.114440</td>\n",
       "    </tr>\n",
       "    <tr>\n",
       "      <th>50</th>\n",
       "      <td>51</td>\n",
       "      <td>North</td>\n",
       "      <td>South Shields</td>\n",
       "      <td>1713</td>\n",
       "      <td>71</td>\n",
       "      <td>1547.793009</td>\n",
       "      <td>165.206991</td>\n",
       "    </tr>\n",
       "    <tr>\n",
       "      <th>51</th>\n",
       "      <td>52</td>\n",
       "      <td>North</td>\n",
       "      <td>Stockport</td>\n",
       "      <td>1557</td>\n",
       "      <td>13</td>\n",
       "      <td>1662.451020</td>\n",
       "      <td>-105.451020</td>\n",
       "    </tr>\n",
       "    <tr>\n",
       "      <th>52</th>\n",
       "      <td>53</td>\n",
       "      <td>North</td>\n",
       "      <td>Stoke</td>\n",
       "      <td>1640</td>\n",
       "      <td>57</td>\n",
       "      <td>1575.469080</td>\n",
       "      <td>64.530920</td>\n",
       "    </tr>\n",
       "    <tr>\n",
       "      <th>53</th>\n",
       "      <td>54</td>\n",
       "      <td>North</td>\n",
       "      <td>Sunderland</td>\n",
       "      <td>1709</td>\n",
       "      <td>71</td>\n",
       "      <td>1547.793009</td>\n",
       "      <td>161.206991</td>\n",
       "    </tr>\n",
       "    <tr>\n",
       "      <th>55</th>\n",
       "      <td>56</td>\n",
       "      <td>North</td>\n",
       "      <td>Wallasey</td>\n",
       "      <td>1625</td>\n",
       "      <td>20</td>\n",
       "      <td>1648.612984</td>\n",
       "      <td>-23.612984</td>\n",
       "    </tr>\n",
       "    <tr>\n",
       "      <th>60</th>\n",
       "      <td>61</td>\n",
       "      <td>North</td>\n",
       "      <td>York</td>\n",
       "      <td>1378</td>\n",
       "      <td>71</td>\n",
       "      <td>1547.793009</td>\n",
       "      <td>-169.793009</td>\n",
       "    </tr>\n",
       "  </tbody>\n",
       "</table>\n",
       "</div>"
      ],
      "text/plain": [
       "    Unnamed: 0 location           town  mortality  hardness  \\\n",
       "1            2    North     Birkenhead       1668        17   \n",
       "3            4    North      Blackburn       1800        14   \n",
       "4            5    North      Blackpool       1609        18   \n",
       "5            6    North         Bolton       1558        10   \n",
       "6            7    North         Bootle       1807        15   \n",
       "8            9    North       Bradford       1637        10   \n",
       "11          12    North        Burnley       1755        12   \n",
       "15          16    North     Darlington       1491        20   \n",
       "16          17    North          Derby       1555        39   \n",
       "17          18    North      Doncaster       1428        39   \n",
       "20          21    North      Gateshead       1723        44   \n",
       "21          22    North        Grimsby       1379        94   \n",
       "22          23    North        Halifax       1742         8   \n",
       "23          24    North   Huddersfield       1574         9   \n",
       "24          25    North           Hull       1569        91   \n",
       "26          27    North          Leeds       1591        16   \n",
       "28          29    North      Liverpool       1772        15   \n",
       "29          30    North     Manchester       1828         8   \n",
       "30          31    North  Middlesbrough       1704        26   \n",
       "31          32    North      Newcastle       1702        44   \n",
       "35          36    North     Nottingham       1427        27   \n",
       "36          37    North         Oldham       1724         6   \n",
       "40          41    North        Preston       1696         6   \n",
       "42          43    North       Rochdale       1711        13   \n",
       "43          44    North      Rotherham       1444        14   \n",
       "44          45    North      St Helens       1591        49   \n",
       "45          46    North        Salford       1987         8   \n",
       "46          47    North      Sheffield       1495        14   \n",
       "49          50    North      Southport       1587        75   \n",
       "50          51    North  South Shields       1713        71   \n",
       "51          52    North      Stockport       1557        13   \n",
       "52          53    North          Stoke       1640        57   \n",
       "53          54    North     Sunderland       1709        71   \n",
       "55          56    North       Wallasey       1625        20   \n",
       "60          61    North           York       1378        71   \n",
       "\n",
       "    mortality.predicted  mortality.resid  \n",
       "1           1654.543571        13.456429  \n",
       "3           1660.474157       139.525843  \n",
       "4           1652.566708       -43.566708  \n",
       "5           1668.381606      -110.381606  \n",
       "6           1658.497295       148.502705  \n",
       "8           1668.381606       -31.381606  \n",
       "11          1664.427882        90.572118  \n",
       "15          1648.612984      -157.612984  \n",
       "16          1611.052601       -56.052601  \n",
       "17          1611.052601      -183.052601  \n",
       "20          1601.168290       121.831710  \n",
       "21          1502.325177      -123.325177  \n",
       "22          1672.335331        69.664669  \n",
       "23          1670.358469       -96.358469  \n",
       "24          1508.255763        60.744237  \n",
       "26          1656.520433       -65.520433  \n",
       "28          1658.497295       113.502705  \n",
       "29          1672.335331       155.664669  \n",
       "30          1636.751810        67.248190  \n",
       "31          1601.168290       100.831710  \n",
       "35          1634.774948      -207.774948  \n",
       "36          1676.289055        47.710945  \n",
       "40          1676.289055        19.710945  \n",
       "42          1662.451020        48.548980  \n",
       "43          1660.474157      -216.474157  \n",
       "44          1591.283978        -0.283978  \n",
       "45          1672.335331       314.664669  \n",
       "46          1660.474157      -165.474157  \n",
       "49          1539.885560        47.114440  \n",
       "50          1547.793009       165.206991  \n",
       "51          1662.451020      -105.451020  \n",
       "52          1575.469080        64.530920  \n",
       "53          1547.793009       161.206991  \n",
       "55          1648.612984       -23.612984  \n",
       "60          1547.793009      -169.793009  "
      ]
     },
     "execution_count": 58,
     "metadata": {},
     "output_type": "execute_result"
    }
   ],
   "source": [
    "# расчет остатков на всем множестве данных\n",
    "df['mortality.predicted'] = lr_coef * df['hardness'] + lr_const\n",
    "df['mortality.resid'] = df['mortality'] - df['mortality.predicted']\n",
    "\n",
    "df"
   ]
  },
  {
   "cell_type": "code",
   "execution_count": 59,
   "metadata": {},
   "outputs": [
    {
     "data": {
      "text/plain": [
       "<matplotlib.collections.PathCollection at 0x226955a7310>"
      ]
     },
     "execution_count": 59,
     "metadata": {},
     "output_type": "execute_result"
    },
    {
     "data": {
      "image/png": "[encoded data removed]",
      "text/plain": [
       "<Figure size 432x288 with 1 Axes>"
      ]
     },
     "metadata": {
      "needs_background": "light"
     },
     "output_type": "display_data"
    }
   ],
   "source": [
    "plt.scatter(df['hardness'], df['mortality.resid'])"
   ]
  },
  {
   "cell_type": "code",
   "execution_count": 60,
   "metadata": {},
   "outputs": [
    {
     "data": {
      "text/plain": [
       "(array([5., 3., 3., 4., 6., 6., 4., 3., 0., 1.]),\n",
       " array([-216.47415739, -163.36027475, -110.2463921 ,  -57.13250946,\n",
       "          -4.01862681,   49.09525583,  102.20913847,  155.32302112,\n",
       "         208.43690376,  261.55078641,  314.66466905]),\n",
       " <a list of 10 Patch objects>)"
      ]
     },
     "execution_count": 60,
     "metadata": {},
     "output_type": "execute_result"
    },
    {
     "data": {
      "image/png": "[encoded data removed]",
      "text/plain": [
       "<Figure size 432x288 with 1 Axes>"
      ]
     },
     "metadata": {
      "needs_background": "light"
     },
     "output_type": "display_data"
    }
   ],
   "source": [
    "plt.hist(df['mortality.resid'])"
   ]
  },
  {
   "cell_type": "markdown",
   "metadata": {},
   "source": [
    "**Вывод по графикам остатков**: распределение непохоже на нормальное, есть большой перекос в самом первом интервале в левой части гистограммы.\n",
    "Качество модели достаточно низкое для подмножества датасета."
   ]
  },
  {
   "cell_type": "code",
   "execution_count": null,
   "metadata": {},
   "outputs": [],
   "source": []
  },
  {
   "cell_type": "code",
   "execution_count": null,
   "metadata": {},
   "outputs": [],
   "source": []
  },
  {
   "cell_type": "markdown",
   "metadata": {},
   "source": [
    "# Регрессионная модель для подмножества датасета - *южные* города"
   ]
  },
  {
   "cell_type": "code",
   "execution_count": 116,
   "metadata": {},
   "outputs": [],
   "source": [
    "df = df_copy[ df_copy['location'] == 'South' ]\n",
    "\n",
    "# df"
   ]
  },
  {
   "cell_type": "code",
   "execution_count": 117,
   "metadata": {},
   "outputs": [
    {
     "data": {
      "text/plain": [
       "<matplotlib.axes._subplots.AxesSubplot at 0x22695754d60>"
      ]
     },
     "execution_count": 117,
     "metadata": {},
     "output_type": "execute_result"
    },
    {
     "data": {
      "image/png": "[encoded data removed]",
      "text/plain": [
       "<Figure size 432x288 with 1 Axes>"
      ]
     },
     "metadata": {
      "needs_background": "light"
     },
     "output_type": "display_data"
    }
   ],
   "source": [
    "df.plot(kind='scatter', x='hardness', y='mortality')"
   ]
  },
  {
   "cell_type": "markdown",
   "metadata": {},
   "source": [
    "**Промежуточный вывод при взгляде на график рассеяния**: можно предположить, что есть **обратная зависимость** между смертностью и содержанием кальция, выраженная примерно в той же степени, как на всем датасете."
   ]
  },
  {
   "cell_type": "code",
   "execution_count": 77,
   "metadata": {},
   "outputs": [
    {
     "data": {
      "text/html": [
       "<div>\n",
       "<style scoped>\n",
       "    .dataframe tbody tr th:only-of-type {\n",
       "        vertical-align: middle;\n",
       "    }\n",
       "\n",
       "    .dataframe tbody tr th {\n",
       "        vertical-align: top;\n",
       "    }\n",
       "\n",
       "    .dataframe thead th {\n",
       "        text-align: right;\n",
       "    }\n",
       "</style>\n",
       "<table border=\"1\" class=\"dataframe\">\n",
       "  <thead>\n",
       "    <tr style=\"text-align: right;\">\n",
       "      <th></th>\n",
       "      <th>mortality</th>\n",
       "      <th>hardness</th>\n",
       "    </tr>\n",
       "  </thead>\n",
       "  <tbody>\n",
       "    <tr>\n",
       "      <th>mortality</th>\n",
       "      <td>1.000000</td>\n",
       "      <td>-0.602153</td>\n",
       "    </tr>\n",
       "    <tr>\n",
       "      <th>hardness</th>\n",
       "      <td>-0.602153</td>\n",
       "      <td>1.000000</td>\n",
       "    </tr>\n",
       "  </tbody>\n",
       "</table>\n",
       "</div>"
      ],
      "text/plain": [
       "           mortality  hardness\n",
       "mortality   1.000000 -0.602153\n",
       "hardness   -0.602153  1.000000"
      ]
     },
     "execution_count": 77,
     "metadata": {},
     "output_type": "execute_result"
    }
   ],
   "source": [
    "# расчет коэффициента корелляции между двумя переменными средствами Pandas. По формуле Пирсона либо Кендалла либо Спирмена\n",
    "df[['mortality', 'hardness']].corr()"
   ]
  },
  {
   "cell_type": "markdown",
   "metadata": {},
   "source": [
    "**Коэффициент корреляции -0,60** говорит о **заметной** обратной связи (не обязательно причинно-следственной)."
   ]
  },
  {
   "cell_type": "code",
   "execution_count": 88,
   "metadata": {},
   "outputs": [
    {
     "name": "stdout",
     "output_type": "stream",
     "text": [
      "<class 'pandas.core.frame.DataFrame'>\n"
     ]
    }
   ],
   "source": [
    "# определение параметров для линейной регрессии\n",
    "# независимая переменная - датафрейм, в данном случае из одного столбца (ищем корреляцию с одной независимой переменной)\n",
    "# независимая переменная - жесткость воды\n",
    "X = df[['hardness']]\n",
    "print(type(X))\n",
    "# зависимая переменная - серия\n",
    "# зависимая переменная - смертность\n",
    "y = df['mortality']\n",
    "\n",
    "# X, y"
   ]
  },
  {
   "cell_type": "code",
   "execution_count": 89,
   "metadata": {},
   "outputs": [
    {
     "name": "stdout",
     "output_type": "stream",
     "text": [
      "<class 'pandas.core.frame.DataFrame'> <class 'pandas.core.frame.DataFrame'> <class 'pandas.core.series.Series'> <class 'pandas.core.series.Series'>\n"
     ]
    }
   ],
   "source": [
    "# разделение на тренировочный сегмент и тестовый сегмент с помощью специального метода. \n",
    "# Random_state=42 это бестпрактис, еще можно 0\n",
    "X_train, X_test, y_train, y_test = train_test_split(X, y, test_size=0.30, random_state=42)\n",
    "print(type(X_train),type(X_test),type(y_train),type(y_test))"
   ]
  },
  {
   "cell_type": "code",
   "execution_count": 90,
   "metadata": {},
   "outputs": [
    {
     "name": "stdout",
     "output_type": "stream",
     "text": [
      "<class 'sklearn.linear_model._base.LinearRegression'>\n"
     ]
    },
    {
     "data": {
      "text/plain": [
       "(array([-3.51342921]), 1640.2204603423374)"
      ]
     },
     "execution_count": 90,
     "metadata": {},
     "output_type": "execute_result"
    }
   ],
   "source": [
    "# создание объекта на основе класса\n",
    "model = LinearRegression()\n",
    "print(type(model))\n",
    "\n",
    "# запуск обучения - метод класса. \"Fit linear model\". Механизм SciKit - Model Fitting - Supervised learning\n",
    "model.fit(X_train, y_train)  # метод обучается на данных и подбирает оптимальные коэффициенты\n",
    "\n",
    "# результаты модели - атрибут класса. Массив Numpy коэффициентов независимых переменных. В нашем случае один элемент.\n",
    "# результаты модели - атрибут класса. Независимый член\n",
    "model.coef_, model.intercept_"
   ]
  },
  {
   "cell_type": "markdown",
   "metadata": {},
   "source": [
    "**Уравнение линейной регрессии:**"
   ]
  },
  {
   "cell_type": "code",
   "execution_count": 91,
   "metadata": {},
   "outputs": [
    {
     "name": "stdout",
     "output_type": "stream",
     "text": [
      "mortality = -3.513429212378229 * hardness + 1640.2204603423374\n"
     ]
    }
   ],
   "source": [
    "lr_coef = model.coef_[0]\n",
    "lr_const = model.intercept_\n",
    "\n",
    "print(f'mortality = {lr_coef} * hardness + {lr_const}')"
   ]
  },
  {
   "cell_type": "code",
   "execution_count": 92,
   "metadata": {},
   "outputs": [],
   "source": [
    "# запуск прогнозирования - метод класса. \"Predict using the linear model\". На входе - тестовый сегмент, независимая переменная. Механизм SciKit - Prediction - Supervised estimators\n",
    "y_pred = model.predict(X_test)"
   ]
  },
  {
   "cell_type": "code",
   "execution_count": 93,
   "metadata": {},
   "outputs": [
    {
     "data": {
      "text/plain": [
       "-2.551922301235205"
      ]
     },
     "execution_count": 93,
     "metadata": {},
     "output_type": "execute_result"
    }
   ],
   "source": [
    "# оценка модели - метод класса. \"Return the coefficient of determination  of the prediction\". На входе - тестовый сегмент, и зависимая и независимая переменная. Механизм SciKit - Evaluate Model Performance - Classification Metrics (Estomator score method)\n",
    "model.score(X_test, y_test) # метод возвращает значение коэффициента детерминации"
   ]
  },
  {
   "cell_type": "markdown",
   "metadata": {},
   "source": [
    " **Коэффициент детерминации вообще отрицательный**, что говорит о том, что полученная модель хуже, чем ее отсутствие."
   ]
  },
  {
   "cell_type": "code",
   "execution_count": null,
   "metadata": {},
   "outputs": [],
   "source": []
  },
  {
   "cell_type": "markdown",
   "metadata": {},
   "source": [
    "**Сравнение результатов регрессионной модели с фактическими данными** на тестовом сегменте"
   ]
  },
  {
   "cell_type": "code",
   "execution_count": 94,
   "metadata": {},
   "outputs": [
    {
     "data": {
      "text/plain": [
       "[<matplotlib.lines.Line2D at 0x2269584beb0>]"
      ]
     },
     "execution_count": 94,
     "metadata": {},
     "output_type": "execute_result"
    },
    {
     "data": {
      "image/png": "[encoded data removed]",
      "text/plain": [
       "<Figure size 432x288 with 1 Axes>"
      ]
     },
     "metadata": {
      "needs_background": "light"
     },
     "output_type": "display_data"
    }
   ],
   "source": [
    "# вывод скаттерплота тестовых сегментов\n",
    "plt.scatter(X_test, y_test)\n",
    "# вывод линии тестовый сегмент независимой переменной, спрогнозированный сегмент\n",
    "plt.plot(X_test, y_pred, c='r')"
   ]
  },
  {
   "cell_type": "markdown",
   "metadata": {},
   "source": [
    "Фактические наблюдения распределены совсем неодинаково относительно линии регрессии. Ниже линии находится больше наблюдений, чем выше нее."
   ]
  },
  {
   "cell_type": "markdown",
   "metadata": {},
   "source": [
    "**Анализ остатков**"
   ]
  },
  {
   "cell_type": "code",
   "execution_count": 95,
   "metadata": {},
   "outputs": [
    {
     "name": "stderr",
     "output_type": "stream",
     "text": [
      "<ipython-input-95-8b2f90eb036b>:2: SettingWithCopyWarning: \n",
      "A value is trying to be set on a copy of a slice from a DataFrame.\n",
      "Try using .loc[row_indexer,col_indexer] = value instead\n",
      "\n",
      "See the caveats in the documentation: https://pandas.pydata.org/pandas-docs/stable/user_guide/indexing.html#returning-a-view-versus-a-copy\n",
      "  df['mortality.predicted'] = lr_coef * df['hardness'] + lr_const\n",
      "<ipython-input-95-8b2f90eb036b>:3: SettingWithCopyWarning: \n",
      "A value is trying to be set on a copy of a slice from a DataFrame.\n",
      "Try using .loc[row_indexer,col_indexer] = value instead\n",
      "\n",
      "See the caveats in the documentation: https://pandas.pydata.org/pandas-docs/stable/user_guide/indexing.html#returning-a-view-versus-a-copy\n",
      "  df['mortality.resid'] = df['mortality'] - df['mortality.predicted']\n"
     ]
    },
    {
     "data": {
      "text/html": [
       "<div>\n",
       "<style scoped>\n",
       "    .dataframe tbody tr th:only-of-type {\n",
       "        vertical-align: middle;\n",
       "    }\n",
       "\n",
       "    .dataframe tbody tr th {\n",
       "        vertical-align: top;\n",
       "    }\n",
       "\n",
       "    .dataframe thead th {\n",
       "        text-align: right;\n",
       "    }\n",
       "</style>\n",
       "<table border=\"1\" class=\"dataframe\">\n",
       "  <thead>\n",
       "    <tr style=\"text-align: right;\">\n",
       "      <th></th>\n",
       "      <th>Unnamed: 0</th>\n",
       "      <th>location</th>\n",
       "      <th>town</th>\n",
       "      <th>mortality</th>\n",
       "      <th>hardness</th>\n",
       "      <th>mortality.predicted</th>\n",
       "      <th>mortality.resid</th>\n",
       "    </tr>\n",
       "  </thead>\n",
       "  <tbody>\n",
       "    <tr>\n",
       "      <th>0</th>\n",
       "      <td>1</td>\n",
       "      <td>South</td>\n",
       "      <td>Bath</td>\n",
       "      <td>1247</td>\n",
       "      <td>105</td>\n",
       "      <td>1271.310393</td>\n",
       "      <td>-24.310393</td>\n",
       "    </tr>\n",
       "    <tr>\n",
       "      <th>2</th>\n",
       "      <td>3</td>\n",
       "      <td>South</td>\n",
       "      <td>Birmingham</td>\n",
       "      <td>1466</td>\n",
       "      <td>5</td>\n",
       "      <td>1622.653314</td>\n",
       "      <td>-156.653314</td>\n",
       "    </tr>\n",
       "    <tr>\n",
       "      <th>7</th>\n",
       "      <td>8</td>\n",
       "      <td>South</td>\n",
       "      <td>Bournemouth</td>\n",
       "      <td>1299</td>\n",
       "      <td>78</td>\n",
       "      <td>1366.172982</td>\n",
       "      <td>-67.172982</td>\n",
       "    </tr>\n",
       "    <tr>\n",
       "      <th>9</th>\n",
       "      <td>10</td>\n",
       "      <td>South</td>\n",
       "      <td>Brighton</td>\n",
       "      <td>1359</td>\n",
       "      <td>84</td>\n",
       "      <td>1345.092407</td>\n",
       "      <td>13.907593</td>\n",
       "    </tr>\n",
       "    <tr>\n",
       "      <th>10</th>\n",
       "      <td>11</td>\n",
       "      <td>South</td>\n",
       "      <td>Bristol</td>\n",
       "      <td>1392</td>\n",
       "      <td>73</td>\n",
       "      <td>1383.740128</td>\n",
       "      <td>8.259872</td>\n",
       "    </tr>\n",
       "    <tr>\n",
       "      <th>12</th>\n",
       "      <td>13</td>\n",
       "      <td>South</td>\n",
       "      <td>Cardiff</td>\n",
       "      <td>1519</td>\n",
       "      <td>21</td>\n",
       "      <td>1566.438447</td>\n",
       "      <td>-47.438447</td>\n",
       "    </tr>\n",
       "    <tr>\n",
       "      <th>13</th>\n",
       "      <td>14</td>\n",
       "      <td>South</td>\n",
       "      <td>Coventry</td>\n",
       "      <td>1307</td>\n",
       "      <td>78</td>\n",
       "      <td>1366.172982</td>\n",
       "      <td>-59.172982</td>\n",
       "    </tr>\n",
       "    <tr>\n",
       "      <th>14</th>\n",
       "      <td>15</td>\n",
       "      <td>South</td>\n",
       "      <td>Croydon</td>\n",
       "      <td>1254</td>\n",
       "      <td>96</td>\n",
       "      <td>1302.931256</td>\n",
       "      <td>-48.931256</td>\n",
       "    </tr>\n",
       "    <tr>\n",
       "      <th>18</th>\n",
       "      <td>19</td>\n",
       "      <td>South</td>\n",
       "      <td>East Ham</td>\n",
       "      <td>1318</td>\n",
       "      <td>122</td>\n",
       "      <td>1211.582096</td>\n",
       "      <td>106.417904</td>\n",
       "    </tr>\n",
       "    <tr>\n",
       "      <th>19</th>\n",
       "      <td>20</td>\n",
       "      <td>South</td>\n",
       "      <td>Exeter</td>\n",
       "      <td>1260</td>\n",
       "      <td>21</td>\n",
       "      <td>1566.438447</td>\n",
       "      <td>-306.438447</td>\n",
       "    </tr>\n",
       "    <tr>\n",
       "      <th>25</th>\n",
       "      <td>26</td>\n",
       "      <td>South</td>\n",
       "      <td>Ipswich</td>\n",
       "      <td>1096</td>\n",
       "      <td>138</td>\n",
       "      <td>1155.367229</td>\n",
       "      <td>-59.367229</td>\n",
       "    </tr>\n",
       "    <tr>\n",
       "      <th>27</th>\n",
       "      <td>28</td>\n",
       "      <td>South</td>\n",
       "      <td>Leicester</td>\n",
       "      <td>1402</td>\n",
       "      <td>37</td>\n",
       "      <td>1510.223579</td>\n",
       "      <td>-108.223579</td>\n",
       "    </tr>\n",
       "    <tr>\n",
       "      <th>32</th>\n",
       "      <td>33</td>\n",
       "      <td>South</td>\n",
       "      <td>Newport</td>\n",
       "      <td>1581</td>\n",
       "      <td>14</td>\n",
       "      <td>1591.032451</td>\n",
       "      <td>-10.032451</td>\n",
       "    </tr>\n",
       "    <tr>\n",
       "      <th>33</th>\n",
       "      <td>34</td>\n",
       "      <td>South</td>\n",
       "      <td>Northampton</td>\n",
       "      <td>1309</td>\n",
       "      <td>59</td>\n",
       "      <td>1432.928137</td>\n",
       "      <td>-123.928137</td>\n",
       "    </tr>\n",
       "    <tr>\n",
       "      <th>34</th>\n",
       "      <td>35</td>\n",
       "      <td>South</td>\n",
       "      <td>Norwich</td>\n",
       "      <td>1259</td>\n",
       "      <td>133</td>\n",
       "      <td>1172.934375</td>\n",
       "      <td>86.065625</td>\n",
       "    </tr>\n",
       "    <tr>\n",
       "      <th>37</th>\n",
       "      <td>38</td>\n",
       "      <td>South</td>\n",
       "      <td>Oxford</td>\n",
       "      <td>1175</td>\n",
       "      <td>107</td>\n",
       "      <td>1264.283535</td>\n",
       "      <td>-89.283535</td>\n",
       "    </tr>\n",
       "    <tr>\n",
       "      <th>38</th>\n",
       "      <td>39</td>\n",
       "      <td>South</td>\n",
       "      <td>Plymouth</td>\n",
       "      <td>1486</td>\n",
       "      <td>5</td>\n",
       "      <td>1622.653314</td>\n",
       "      <td>-136.653314</td>\n",
       "    </tr>\n",
       "    <tr>\n",
       "      <th>39</th>\n",
       "      <td>40</td>\n",
       "      <td>South</td>\n",
       "      <td>Portsmouth</td>\n",
       "      <td>1456</td>\n",
       "      <td>90</td>\n",
       "      <td>1324.011831</td>\n",
       "      <td>131.988169</td>\n",
       "    </tr>\n",
       "    <tr>\n",
       "      <th>41</th>\n",
       "      <td>42</td>\n",
       "      <td>South</td>\n",
       "      <td>Reading</td>\n",
       "      <td>1236</td>\n",
       "      <td>101</td>\n",
       "      <td>1285.364110</td>\n",
       "      <td>-49.364110</td>\n",
       "    </tr>\n",
       "    <tr>\n",
       "      <th>47</th>\n",
       "      <td>48</td>\n",
       "      <td>South</td>\n",
       "      <td>Southampton</td>\n",
       "      <td>1369</td>\n",
       "      <td>68</td>\n",
       "      <td>1401.307274</td>\n",
       "      <td>-32.307274</td>\n",
       "    </tr>\n",
       "    <tr>\n",
       "      <th>48</th>\n",
       "      <td>49</td>\n",
       "      <td>South</td>\n",
       "      <td>Southend</td>\n",
       "      <td>1257</td>\n",
       "      <td>50</td>\n",
       "      <td>1464.549000</td>\n",
       "      <td>-207.549000</td>\n",
       "    </tr>\n",
       "    <tr>\n",
       "      <th>54</th>\n",
       "      <td>55</td>\n",
       "      <td>South</td>\n",
       "      <td>Swansea</td>\n",
       "      <td>1625</td>\n",
       "      <td>13</td>\n",
       "      <td>1594.545881</td>\n",
       "      <td>30.454119</td>\n",
       "    </tr>\n",
       "    <tr>\n",
       "      <th>56</th>\n",
       "      <td>57</td>\n",
       "      <td>South</td>\n",
       "      <td>Walsall</td>\n",
       "      <td>1527</td>\n",
       "      <td>60</td>\n",
       "      <td>1429.414708</td>\n",
       "      <td>97.585292</td>\n",
       "    </tr>\n",
       "    <tr>\n",
       "      <th>57</th>\n",
       "      <td>58</td>\n",
       "      <td>South</td>\n",
       "      <td>West Bromwich</td>\n",
       "      <td>1627</td>\n",
       "      <td>53</td>\n",
       "      <td>1454.008712</td>\n",
       "      <td>172.991288</td>\n",
       "    </tr>\n",
       "    <tr>\n",
       "      <th>58</th>\n",
       "      <td>59</td>\n",
       "      <td>South</td>\n",
       "      <td>West Ham</td>\n",
       "      <td>1486</td>\n",
       "      <td>122</td>\n",
       "      <td>1211.582096</td>\n",
       "      <td>274.417904</td>\n",
       "    </tr>\n",
       "    <tr>\n",
       "      <th>59</th>\n",
       "      <td>60</td>\n",
       "      <td>South</td>\n",
       "      <td>Wolverhampton</td>\n",
       "      <td>1485</td>\n",
       "      <td>81</td>\n",
       "      <td>1355.632694</td>\n",
       "      <td>129.367306</td>\n",
       "    </tr>\n",
       "  </tbody>\n",
       "</table>\n",
       "</div>"
      ],
      "text/plain": [
       "    Unnamed: 0 location           town  mortality  hardness  \\\n",
       "0            1    South           Bath       1247       105   \n",
       "2            3    South     Birmingham       1466         5   \n",
       "7            8    South    Bournemouth       1299        78   \n",
       "9           10    South       Brighton       1359        84   \n",
       "10          11    South        Bristol       1392        73   \n",
       "12          13    South        Cardiff       1519        21   \n",
       "13          14    South       Coventry       1307        78   \n",
       "14          15    South        Croydon       1254        96   \n",
       "18          19    South       East Ham       1318       122   \n",
       "19          20    South         Exeter       1260        21   \n",
       "25          26    South        Ipswich       1096       138   \n",
       "27          28    South      Leicester       1402        37   \n",
       "32          33    South        Newport       1581        14   \n",
       "33          34    South    Northampton       1309        59   \n",
       "34          35    South        Norwich       1259       133   \n",
       "37          38    South         Oxford       1175       107   \n",
       "38          39    South       Plymouth       1486         5   \n",
       "39          40    South     Portsmouth       1456        90   \n",
       "41          42    South        Reading       1236       101   \n",
       "47          48    South    Southampton       1369        68   \n",
       "48          49    South       Southend       1257        50   \n",
       "54          55    South        Swansea       1625        13   \n",
       "56          57    South        Walsall       1527        60   \n",
       "57          58    South  West Bromwich       1627        53   \n",
       "58          59    South       West Ham       1486       122   \n",
       "59          60    South  Wolverhampton       1485        81   \n",
       "\n",
       "    mortality.predicted  mortality.resid  \n",
       "0           1271.310393       -24.310393  \n",
       "2           1622.653314      -156.653314  \n",
       "7           1366.172982       -67.172982  \n",
       "9           1345.092407        13.907593  \n",
       "10          1383.740128         8.259872  \n",
       "12          1566.438447       -47.438447  \n",
       "13          1366.172982       -59.172982  \n",
       "14          1302.931256       -48.931256  \n",
       "18          1211.582096       106.417904  \n",
       "19          1566.438447      -306.438447  \n",
       "25          1155.367229       -59.367229  \n",
       "27          1510.223579      -108.223579  \n",
       "32          1591.032451       -10.032451  \n",
       "33          1432.928137      -123.928137  \n",
       "34          1172.934375        86.065625  \n",
       "37          1264.283535       -89.283535  \n",
       "38          1622.653314      -136.653314  \n",
       "39          1324.011831       131.988169  \n",
       "41          1285.364110       -49.364110  \n",
       "47          1401.307274       -32.307274  \n",
       "48          1464.549000      -207.549000  \n",
       "54          1594.545881        30.454119  \n",
       "56          1429.414708        97.585292  \n",
       "57          1454.008712       172.991288  \n",
       "58          1211.582096       274.417904  \n",
       "59          1355.632694       129.367306  "
      ]
     },
     "execution_count": 95,
     "metadata": {},
     "output_type": "execute_result"
    }
   ],
   "source": [
    "# расчет остатков на всем множестве данных\n",
    "df['mortality.predicted'] = lr_coef * df['hardness'] + lr_const\n",
    "df['mortality.resid'] = df['mortality'] - df['mortality.predicted']\n",
    "\n",
    "df"
   ]
  },
  {
   "cell_type": "code",
   "execution_count": 96,
   "metadata": {},
   "outputs": [
    {
     "data": {
      "text/plain": [
       "<matplotlib.collections.PathCollection at 0x2269589ad90>"
      ]
     },
     "execution_count": 96,
     "metadata": {},
     "output_type": "execute_result"
    },
    {
     "data": {
      "image/png": "[encoded data removed]",
      "text/plain": [
       "<Figure size 432x288 with 1 Axes>"
      ]
     },
     "metadata": {
      "needs_background": "light"
     },
     "output_type": "display_data"
    }
   ],
   "source": [
    "plt.scatter(df['hardness'], df['mortality.resid'])"
   ]
  },
  {
   "cell_type": "code",
   "execution_count": 97,
   "metadata": {},
   "outputs": [
    {
     "data": {
      "text/plain": [
       "(array([1., 1., 2., 3., 8., 4., 2., 3., 1., 1.]),\n",
       " array([-306.43844688, -248.35281184, -190.26717679, -132.18154175,\n",
       "         -74.0959067 ,  -16.01027166,   42.07536339,  100.16099843,\n",
       "         158.24663348,  216.33226852,  274.41790357]),\n",
       " <a list of 10 Patch objects>)"
      ]
     },
     "execution_count": 97,
     "metadata": {},
     "output_type": "execute_result"
    },
    {
     "data": {
      "image/png": "[encoded data removed]",
      "text/plain": [
       "<Figure size 432x288 with 1 Axes>"
      ]
     },
     "metadata": {
      "needs_background": "light"
     },
     "output_type": "display_data"
    }
   ],
   "source": [
    "plt.hist(df['mortality.resid'])"
   ]
  },
  {
   "cell_type": "markdown",
   "metadata": {},
   "source": [
    "**Вывод по графикам остатков**: распределение непохоже на нормальное, центр сильно смещен влево относительно 0.\n",
    "Качество модели чрезвычайно низкое для данного подмножества датасета. "
   ]
  },
  {
   "cell_type": "code",
   "execution_count": null,
   "metadata": {},
   "outputs": [],
   "source": []
  },
  {
   "cell_type": "code",
   "execution_count": null,
   "metadata": {},
   "outputs": [],
   "source": []
  }
 ],
 "metadata": {
  "kernelspec": {
   "display_name": "Python 3",
   "language": "python",
   "name": "python3"
  },
  "language_info": {
   "codemirror_mode": {
    "name": "ipython",
    "version": 3
   },
   "file_extension": ".py",
   "mimetype": "text/x-python",
   "name": "python",
   "nbconvert_exporter": "python",
   "pygments_lexer": "ipython3",
   "version": "3.8.3"
  }
 },
 "nbformat": 4,
 "nbformat_minor": 4
}
