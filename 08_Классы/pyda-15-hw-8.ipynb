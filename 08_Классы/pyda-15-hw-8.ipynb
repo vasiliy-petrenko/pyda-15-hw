{
 "cells": [
  {
   "cell_type": "markdown",
   "metadata": {},
   "source": [
    "## Задание 1\n",
    "Напишите функцию, которая возвращает название валюты (поле ‘Name’) с максимальным значением курса с помощью сервиса https://www.cbr-xml-daily.ru/daily_json.js"
   ]
  },
  {
   "cell_type": "code",
   "execution_count": 1,
   "metadata": {},
   "outputs": [
    {
     "name": "stdout",
     "output_type": "stream",
     "text": [
      "Название валюты с максимальным значением курса: СДР (специальные права заимствования)\n"
     ]
    }
   ],
   "source": [
    "import requests\n",
    "\n",
    "def currency_max_value_name():\n",
    "    \"\"\"\n",
    "    Функция возвращает наименование валюты с наибольшим курсом \n",
    "    (Name элемента с наибольшим Value из источника https://www.cbr-xml-daily.ru/daily_json.js)\n",
    "    \"\"\"\n",
    "    \n",
    "    # словарь с данными\n",
    "    cur_dict = requests.get('https://www.cbr-xml-daily.ru/daily_json.js').json()['Valute']\n",
    "    \n",
    "    # список ключей словаря для перебора в цикле\n",
    "    cur_dict_keys_list = list(cur_dict.keys())\n",
    "\n",
    "    cur_dict_names_list = []\n",
    "    cur_dict_values_list = []\n",
    "\n",
    "    # цикл с итерациями перебора валют и занесения Наименования и Значения в списки\n",
    "    for cur in cur_dict_keys_list:\n",
    "        cur_name = cur_dict[cur]['Name']\n",
    "        cur_value = cur_dict[cur]['Value']\n",
    "        cur_dict_names_list.append(cur_name)\n",
    "        cur_dict_values_list.append(cur_value)\n",
    "\n",
    "    # print(cur_dict_values_list)\n",
    "\n",
    "    # обратный словарь значение-валюта\n",
    "    value_cur_dict = dict(zip(cur_dict_values_list,cur_dict_names_list))\n",
    "    # print(value_cur_dict)\n",
    "\n",
    "    # определение наибольшего Значения и извлечение из словаря Наименования\n",
    "    max_value_cur = value_cur_dict[max(cur_dict_values_list)]\n",
    "#     print(max_value_cur)\n",
    "    return max_value_cur\n",
    "    \n",
    "print(f'Название валюты с максимальным значением курса: {currency_max_value_name()}')"
   ]
  },
  {
   "cell_type": "markdown",
   "metadata": {},
   "source": [
    "## Задание 2\n",
    "Добавьте в класс Rate параметр diff (со значениями True или False), который в случае значения True в методах курсов валют (eur, usd итд) будет возвращать не курс валюты, а изменение по сравнению в прошлым значением. Считайте, self.diff будет принимать значение True только при возврате значения курса. При отображении всей информации о валюте он не используется."
   ]
  },
  {
   "cell_type": "code",
   "execution_count": 38,
   "metadata": {},
   "outputs": [],
   "source": [
    "# cur_dict = requests.get('https://www.cbr-xml-daily.ru/daily_json.js').json()['Valute']\n",
    "# print(cur_dict)"
   ]
  },
  {
   "cell_type": "code",
   "execution_count": 59,
   "metadata": {},
   "outputs": [],
   "source": [
    "import requests\n",
    "\n",
    "class Rate:\n",
    "    def __init__(self, format_='value'):\n",
    "        self.format = format_\n",
    "    \n",
    "    def exchange_rates(self):\n",
    "        \"\"\"\n",
    "        Возвращает ответ сервиса с информацией о валютах в виде:\n",
    "        \n",
    "        {\n",
    "            'AMD': {\n",
    "                'CharCode': 'AMD',\n",
    "                'ID': 'R01060',\n",
    "                'Name': 'Армянских драмов',\n",
    "                'Nominal': 100,\n",
    "                'NumCode': '051',\n",
    "                'Previous': 14.103,\n",
    "                'Value': 14.0879\n",
    "                },\n",
    "            ...\n",
    "        }\n",
    "        \"\"\"\n",
    "        self.r = requests.get('https://www.cbr-xml-daily.ru/daily_json.js')\n",
    "        return self.r.json()['Valute']\n",
    "    \n",
    "    def make_format(self, currency, diff = False):\n",
    "        \"\"\"\n",
    "        Возвращает информацию о валюте currency в двух вариантах:\n",
    "        - полная информация о валюте при self.format = 'full':\n",
    "        Rate('full').make_format('EUR')\n",
    "        {\n",
    "            'CharCode': 'EUR',\n",
    "            'ID': 'R01239',\n",
    "            'Name': 'Евро',\n",
    "            'Nominal': 1,\n",
    "            'NumCode': '978',\n",
    "            'Previous': 79.6765,\n",
    "            'Value': 79.4966\n",
    "        }\n",
    "        \n",
    "        - только значение при self.format = 'value'\n",
    "        Rate('value').make_format('EUR')\n",
    "        79.4966\n",
    "        \n",
    "        Опциональный второй параметр в случае True выводит изменение\n",
    "        \"\"\"\n",
    "        response = self.exchange_rates()\n",
    "        \n",
    "        if currency in response:\n",
    "            if self.format == 'full':\n",
    "                return response[currency]\n",
    "            \n",
    "            if self.format == 'value':\n",
    "                if diff == True:\n",
    "                    currency_diff = response[currency]['Value'] - response[currency]['Previous']\n",
    "                    return currency_diff\n",
    "                else:\n",
    "                    return response[currency]['Value']\n",
    "\n",
    "            \n",
    "        return 'Error'\n",
    "    \n",
    "    def eur(self, diff = False):\n",
    "        \"\"\"Возвращает курс доллара на сегодня в формате self.format. Опциональный второй параметр в случае True выводит изменение \"\"\"\n",
    "        \n",
    "        if diff == True:\n",
    "            return self.make_format('EUR', True)\n",
    "        else:       \n",
    "            return self.make_format('EUR')\n",
    "            \n",
    "    \n",
    "    def usd(self, diff = False):\n",
    "        \"\"\"Возвращает курс доллара на сегодня в формате self.format. Опциональный второй параметр в случае True выводит изменение\"\"\"\n",
    "\n",
    "        if diff == True:\n",
    "            return self.make_format('USD', True)\n",
    "        else:\n",
    "            return self.make_format('USD')\n",
    "    \n",
    "    def brl(self, diff = False):\n",
    "        \"\"\"Возвращает курс бразильского реала на сегодня в формате self.format. Опциональный второй параметр в случае True выводит изменение\"\"\"\n",
    "\n",
    "        if diff == True:\n",
    "            return self.make_format('BRL', True)\n",
    "        else:\n",
    "            return self.make_format('BRL')"
   ]
  },
  {
   "cell_type": "code",
   "execution_count": 62,
   "metadata": {},
   "outputs": [
    {
     "name": "stdout",
     "output_type": "stream",
     "text": [
      "EUR difference: -0.08409999999999229, USD difference: -0.2506999999999948, BRL difference: 0.10740000000000016\n",
      "EUR value: 90.2643, USD value: 76.012, BRL value: 14.3265\n",
      "{'ID': 'R01239', 'NumCode': '978', 'CharCode': 'EUR', 'Nominal': 1, 'Name': 'Евро', 'Value': 90.2643, 'Previous': 90.3484}\n",
      "{'ID': 'R01235', 'NumCode': '840', 'CharCode': 'USD', 'Nominal': 1, 'Name': 'Доллар США', 'Value': 76.012, 'Previous': 76.2627}\n",
      "{'ID': 'R01115', 'NumCode': '986', 'CharCode': 'BRL', 'Nominal': 1, 'Name': 'Бразильский реал', 'Value': 14.3265, 'Previous': 14.2191}\n"
     ]
    }
   ],
   "source": [
    "r_value = Rate()\n",
    "print(f'EUR difference: {r_value.eur(True)}, USD difference: {r_value.usd(True)}, BRL difference: {r_value.brl(True)}')\n",
    "print(f'EUR value: {r_value.eur()}, USD value: {r_value.usd()}, BRL value: {r_value.brl()}')\n",
    "\n",
    "r_full = Rate(format_='full')\n",
    "print(r_full.eur())\n",
    "print(r_full.usd())\n",
    "print(r_full.brl())"
   ]
  },
  {
   "cell_type": "markdown",
   "metadata": {},
   "source": [
    "## Задание 3\n",
    "Напишите класс Designer, который учитывает количество международных премий. Подсказки в коде занятия в разделе “Домашнее задание задача 3”.\n",
    "Комментарий по классу Designer такой:\n",
    "Напишите класс Designer, который учитывает количество международных премий для дизайнеров (из презентации: “Повышение на 1 грейд за каждые 7 баллов. Получение международной премии – это +2 балла”). Считайте, что при выходе на работу сотрудник уже имеет две премии и их количество не меняется со стажем (конечно если хотите это можно вручную менять).\n",
    "\n",
    "Класс Designer пишется по аналогии с классом Developer из материалов занятия. Комментарий про его условия Вика написала выше: “Повышение на 1 грейд за каждые 7 баллов. Получение международной премии – это +2 балла”"
   ]
  },
  {
   "cell_type": "code",
   "execution_count": 87,
   "metadata": {},
   "outputs": [],
   "source": [
    "class Employee:\n",
    "    def __init__(self, name, seniority):\n",
    "        self.name = name\n",
    "        self.seniority = seniority\n",
    "        \n",
    "        self.grade = 1\n",
    "    \n",
    "    def grade_up(self):\n",
    "        \"\"\"Повышает уровень сотрудника\"\"\"\n",
    "        self.grade += 1\n",
    "    \n",
    "    def publish_grade(self):\n",
    "        \"\"\"Публикация результатов аккредитации сотрудников\"\"\"\n",
    "        print(self.name, self.grade)\n",
    "    \n",
    "    def check_if_it_is_time_for_upgrade(self):\n",
    "        pass"
   ]
  },
  {
   "cell_type": "code",
   "execution_count": 94,
   "metadata": {},
   "outputs": [],
   "source": [
    "class Designer(Employee):\n",
    "    def __init__(self, name, seniority, awards):\n",
    "        super().__init__(name, seniority)\n",
    "        # Получение международной премии – это +2 балла\n",
    "        self.seniority = seniority + awards * 2\n",
    "    \n",
    "    def check_if_it_is_time_for_upgrade(self):\n",
    "        # для каждой аккредитации увеличиваем счетчик на 1\n",
    "        # пока считаем, что все разработчики проходят аккредитацию\n",
    "        self.seniority += 1\n",
    "        \n",
    "        # условие повышения сотрудника из презентации: Повышение на 1 грейд за каждые 7 баллов. Получение международной премии – это +2 балла\n",
    "        if ( self.seniority ) % 7 == 0:\n",
    "            self.grade_up()\n",
    "        \n",
    "        # публикация результатов\n",
    "        return self.publish_grade()"
   ]
  },
  {
   "cell_type": "code",
   "execution_count": 95,
   "metadata": {},
   "outputs": [
    {
     "name": "stdout",
     "output_type": "stream",
     "text": [
      "Елена 1\n",
      "Елена 1\n",
      "Елена 2\n",
      "Елена 2\n",
      "Елена 2\n",
      "Елена 2\n",
      "Елена 2\n",
      "Елена 2\n",
      "Елена 2\n",
      "Елена 3\n",
      "Елена 3\n",
      "Елена 3\n",
      "Елена 3\n",
      "Елена 3\n",
      "Елена 3\n",
      "Елена 3\n",
      "Елена 4\n",
      "Елена 4\n",
      "Елена 4\n",
      "Елена 4\n"
     ]
    }
   ],
   "source": [
    "elena = Designer('Елена', seniority=0, awards=2)\n",
    "\n",
    "# прохождение 20 аккредитаций\n",
    "for i in range(20):\n",
    "    elena.check_if_it_is_time_for_upgrade()"
   ]
  }
 ],
 "metadata": {
  "kernelspec": {
   "display_name": "Python 3",
   "language": "python",
   "name": "python3"
  },
  "language_info": {
   "codemirror_mode": {
    "name": "ipython",
    "version": 3
   },
   "file_extension": ".py",
   "mimetype": "text/x-python",
   "name": "python",
   "nbconvert_exporter": "python",
   "pygments_lexer": "ipython3",
   "version": "3.8.3"
  }
 },
 "nbformat": 4,
 "nbformat_minor": 4
}
