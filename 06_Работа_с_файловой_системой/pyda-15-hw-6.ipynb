{
 "cells": [
  {
   "cell_type": "markdown",
   "metadata": {},
   "source": [
    "# Работа с файловой системой\n",
    "Переведите содержимое файла purchase_log.txt в словарь purchases вида:\n",
    "{‘1840e0b9d4’: ‘Продукты’, …}\n",
    "\n",
    "Для каждого user_id в файле visit_log.csv определите третий столбец с категорией покупки (если покупка была, сам файл visit_log.csv изменять не надо). Запишите в файл funnel.csv визиты из файла visit_log.csv, в которых были покупки с указанием категории.\n",
    "Учтите условия на данные:\n",
    "содержимое purchase_log.txt помещается в оперативную память компьютера\n",
    "содержимое visit_log.csv - нет; используйте только построчную обработку этого файла"
   ]
  },
  {
   "cell_type": "code",
   "execution_count": 1,
   "metadata": {},
   "outputs": [
    {
     "name": "stdout",
     "output_type": "stream",
     "text": [
      "5242952\n",
      "192\n"
     ]
    }
   ],
   "source": [
    "import json\n",
    "\n",
    "dict_purchases = {}\n",
    "\n",
    "i = 0\n",
    "# октрытие файла purchase_log.txt и наполнение словаря user_id-category его строками\n",
    "with open('c:\\\\Users\\\\petrenkovn\\\\Dropbox\\\\DS-22\\\\Data_Files\\\\purchase_log.txt', 'r', encoding='utf-8') as f:\n",
    "    for line in f:\n",
    "        dict_line = json.loads(line)\n",
    "        dict_purchases[dict_line['user_id']] = dict_line['category']\n",
    "        \n",
    "#         i += 1\n",
    "#         if i > 5:\n",
    "#             break\n",
    "        \n",
    "# print(dict_purchases)\n",
    "print(dict_purchases.__sizeof__())\n",
    "\n",
    "i = 0\n",
    "# открытие файла visit_log.csv, открытие файла funnel.csv на запись\n",
    "with open('c:\\\\Users\\\\petrenkovn\\\\Dropbox\\\\DS-22\\\\Data_Files\\\\visit_log.csv', 'r') as f:\n",
    "    fwrite = open('C:\\\\Users\\\\petrenkovn\\\\Dropbox\\\\DS-22\\\\Git\\\\pyda-15-hw\\\\06_Работа_с_файловой_системой\\\\funnel.csv', 'w')   \n",
    "    # построчное чтение visit_log.csv и разделение на две переменных user_id и source\n",
    "    for line in f:\n",
    "#         print(line)\n",
    "        visit_id = line.strip().split(',')[0]\n",
    "        visit_source = line.strip().split(',')[1]\n",
    "        # если в словаре user_id-category есть id, то поиск значения в словаре и запись строки с тремя переменными в файл\n",
    "        if visit_id in dict_purchases:\n",
    "            visit_category = dict_purchases[visit_id]\n",
    "#             print(f'{visit_id}, {visit_source}, {visit_category}')\n",
    "            fwrite.write(f'{visit_id}, {visit_source}, {visit_category}\\n')\n",
    "\n",
    "#         i += 1\n",
    "#         if i > 50000:\n",
    "#             break\n",
    "\n",
    "print(fwrite.__sizeof__())\n",
    "            \n"
   ]
  }
 ],
 "metadata": {
  "kernelspec": {
   "display_name": "Python 3",
   "language": "python",
   "name": "python3"
  },
  "language_info": {
   "codemirror_mode": {
    "name": "ipython",
    "version": 3
   },
   "file_extension": ".py",
   "mimetype": "text/x-python",
   "name": "python",
   "nbconvert_exporter": "python",
   "pygments_lexer": "ipython3",
   "version": "3.8.3"
  }
 },
 "nbformat": 4,
 "nbformat_minor": 4
}
