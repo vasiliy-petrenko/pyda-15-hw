{
 "cells": [
  {
   "cell_type": "markdown",
   "metadata": {},
   "source": [
    "# Домашнее задание к лекции \"Основы Git\""
   ]
  },
  {
   "cell_type": "markdown",
   "metadata": {},
   "source": [
    "## Задание 1"
   ]
  },
  {
   "cell_type": "markdown",
   "metadata": {},
   "source": [
    "Скриншот запущенного Jupyter Notebook"
   ]
  },
  {
   "cell_type": "markdown",
   "metadata": {},
   "source": [
    "<img src=\"https://ucf71567a2169919aa65268859f4.dl.dropboxusercontent.com/cd/0/inline/BBIinq7ohuX0zjBuiRAywQz81yiNJiQ2XXTSjb8H1tjR2BDIdqRjqgA2S8VA1bjEFb5Au598IxSlRUh-C1rahupyBYHBR4pEWM5G6-TDUPJzRDcYEBiBwtg3x53179Sei30/file#\">"
   ]
  },
  {
   "cell_type": "markdown",
   "metadata": {},
   "source": [
    "## Задание 2"
   ]
  },
  {
   "cell_type": "markdown",
   "metadata": {},
   "source": [
    "Скриншоты, которые будут демонстрировать, что вы прошли первые 4 уровня из раздела \"Основы\" и первые 6 уровней из раздела \"Удаленные репозитории\" на интерактивном тренажере Git."
   ]
  },
  {
   "cell_type": "markdown",
   "metadata": {},
   "source": [
    "<img src=\"https://uccf16b4613a6c970254fcdcab03.dl.dropboxusercontent.com/cd/0/inline/BBJVUfc6GftmUIjISEyWnI_Urvgg9GV-oOBo_kOge_IMDI7XNgSCLarCeP0Q1ygIFYzWnEWpuzkixJJFNF_KN2tB_3WDUDkssthlqFbjRYgJiBYr8q9nWKoycqpZMqf0TZc/file#\">"
   ]
  },
  {
   "cell_type": "markdown",
   "metadata": {},
   "source": [
    "<img src=\"https://uc6b43af51014ad8276621719569.dl.dropboxusercontent.com/cd/0/inline/BBITnvyYaOJ2ngqr1gXjlM2WUplNh66PcALvXTwQYX7oc7nodeGj9SQmZ0fN_OP90vP2uYFcHi0u2oYERPcZMGSaiuC_KeegupMQkzslJDL8ePlN26uoxchvpx7W9KHXzr4/file#\">"
   ]
  },
  {
   "cell_type": "markdown",
   "metadata": {},
   "source": [
    "## Задание 3"
   ]
  },
  {
   "cell_type": "markdown",
   "metadata": {},
   "source": [
    "Для домашних работ будет использоваться репозиторий https://github.com/vasiliy-petrenko/pyda-15-hw с default-веткой **master** (пришлось снять этот статус с main для совместимости). Структура папок соответствует названиям лекций.\n"
   ]
  },
  {
   "cell_type": "code",
   "execution_count": null,
   "metadata": {},
   "outputs": [],
   "source": []
  }
 ],
 "metadata": {
  "kernelspec": {
   "display_name": "Python 3",
   "language": "python",
   "name": "python3"
  },
  "language_info": {
   "codemirror_mode": {
    "name": "ipython",
    "version": 3
   },
   "file_extension": ".py",
   "mimetype": "text/x-python",
   "name": "python",
   "nbconvert_exporter": "python",
   "pygments_lexer": "ipython3",
   "version": "3.8.3"
  }
 },
 "nbformat": 4,
 "nbformat_minor": 4
}
