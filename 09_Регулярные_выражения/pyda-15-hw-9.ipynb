{
 "cells": [
  {
   "cell_type": "code",
   "execution_count": 53,
   "metadata": {},
   "outputs": [],
   "source": [
    "import re"
   ]
  },
  {
   "cell_type": "markdown",
   "metadata": {},
   "source": [
    "# Задание 1"
   ]
  },
  {
   "cell_type": "code",
   "execution_count": 52,
   "metadata": {},
   "outputs": [
    {
     "name": "stdout",
     "output_type": "stream",
     "text": [
      "Номер A222BC валиден. Регион: 96\n",
      "Номер не валиден\n"
     ]
    }
   ],
   "source": [
    "def is_valid_license_plate( license_plate ):\n",
    "    \"\"\"\n",
    "    Функция принимает на вход строку и проверяет является ли она валидным транспортным номером (1 буква, 3 цифры, 2 буквы, 2-3 цифры)\n",
    "    Если номер валиден, то функция возвращает отдельно номер и регион.\n",
    "    \"\"\"\n",
    "    # регулярное выражение с символами, допустимыми в госномерах \n",
    "    regex_license_plate_pattern = r'^([АВЕКМНОРСТУХABEKMHOPCTYX]{1})(\\d{3})([АВЕКМНОРСТУХABEKMHOPCTYX]{2})(\\d{2,3})$'\n",
    "    if len( re.findall( regex_license_plate_pattern, license_plate ) ) > 0:\n",
    "        # выделение трех скобочных групп - госномер без региона\n",
    "        license_plate_number = re.search( regex_license_plate_pattern, license_plate ).group(1) + re.search( regex_license_plate_pattern, license_plate ).group(2) + re.search( regex_license_plate_pattern, license_plate ).group(3)\n",
    "        # выделение четвертой скобочной группы - регион госномера\n",
    "        license_plate_region = re.search( regex_license_plate_pattern, license_plate ).group(4)\n",
    "        \n",
    "        # возврат госномера кортежем - отдельно цифры-буквы, отдельно регион\n",
    "        return ( license_plate_number, license_plate_region )\n",
    "    else:\n",
    "        # если номер не валиден, то пустой кортеж\n",
    "        return ()\n",
    "    \n",
    "car_id = 'A222BC96'\n",
    "if len( is_valid_license_plate( car_id ) ) > 0:\n",
    "    print(f'Номер {is_valid_license_plate( car_id )[0]} валиден. Регион: {is_valid_license_plate( car_id )[1]}')\n",
    "else:\n",
    "    print('Номер не валиден')\n",
    "    \n",
    "car_id = 'АБ22ВВ193'\n",
    "if len( is_valid_license_plate( car_id ) ) > 0:\n",
    "    print(f'Номер {is_valid_license_plate( car_id )[0]} валиден. Регион: {is_valid_license_plate( car_id )[1]}')\n",
    "else:\n",
    "    print('Номер не валиден')    \n"
   ]
  },
  {
   "cell_type": "markdown",
   "metadata": {},
   "source": [
    "# Задание 2"
   ]
  },
  {
   "cell_type": "code",
   "execution_count": 189,
   "metadata": {},
   "outputs": [
    {
     "name": "stdout",
     "output_type": "stream",
     "text": [
      "Напишите функцию, которая будет удалять все последовательные повторы слов из заданной строки при помощи регулярных выражений.\n"
     ]
    }
   ],
   "source": [
    "def remove_consequential_repeats(text):\n",
    "    \"\"\"\n",
    "    Функция удаляет все последовательные повторы слов из заданной строки\n",
    "    \"\"\"\n",
    "    # поиск по регулярному выражению с одной скобочной группой и ее повтором, замена найденных подстрок на подстроку самой скобочной группы\n",
    "    text_modified = re.sub( r'(\\s\\w+)\\1', r'\\1', text )\n",
    "    # проверка - если повторы остаются, то еще один проход. Можно было бы рекурсией...\n",
    "    if len( re.findall( r'(\\s\\w+)\\1', text_modified ) ) == 0:\n",
    "        return text_modified\n",
    "    else:\n",
    "        text_modified = re.sub( r'(\\s\\w+)\\1', r'\\1', text_modified )\n",
    "        return text_modified\n",
    "\n",
    "print(remove_consequential_repeats('Напишите функцию функцию, которая будет будет будет будет удалять все все все все последовательные повторы слов из из из из заданной строки строки при помощи регулярных выражений.'))\n"
   ]
  },
  {
   "cell_type": "markdown",
   "metadata": {},
   "source": [
    "# Задание 3"
   ]
  },
  {
   "cell_type": "code",
   "execution_count": 194,
   "metadata": {},
   "outputs": [
    {
     "name": "stdout",
     "output_type": "stream",
     "text": [
      "ИТ\n",
      "NFC\n"
     ]
    }
   ],
   "source": [
    "def acronym_from_string( text ):\n",
    "    \"\"\"\n",
    "    Функция возвращает акроним по переданной в нее строке со словами\n",
    "    \"\"\"\n",
    "    return re.sub(r'(\\w)(\\w+\\s{0,1})', r'\\1', text).upper()\n",
    "\n",
    "some_words = 'Информационные технологии'\n",
    "print(acronym_from_string(some_words))\n",
    "\n",
    "some_words = 'Near Field Communication'\n",
    "print(acronym_from_string(some_words))\n"
   ]
  },
  {
   "cell_type": "markdown",
   "metadata": {},
   "source": [
    "# Задание 4"
   ]
  },
  {
   "cell_type": "code",
   "execution_count": 200,
   "metadata": {},
   "outputs": [
    {
     "name": "stdout",
     "output_type": "stream",
     "text": [
      "mail.ru: 1\n",
      "gmail.com: 2\n",
      "test.in: 1\n",
      "ya.ru: 2\n"
     ]
    }
   ],
   "source": [
    "emails = ['test@gmail.com', 'xyz@test.in', 'test@ya.ru', 'xyz@mail.ru', 'xyz@ya.ru', 'xyz@gmail.com']\n",
    "\n",
    "def print_distribution_of_emails_in_list_by_domain( emails ):\n",
    "    \"\"\"\n",
    "    Функция принимает на вход список email-адресов и выводит их распределение по доменным зонам\n",
    "    \"\"\"\n",
    "    email_domain_list = []\n",
    "\n",
    "    for email in emails:\n",
    "        email_domain_list.append(re.search(r'(?:.+@)(\\w+\\.\\w+)', email).group(1))\n",
    "\n",
    "    email_domain_set = set(email_domain_list)    \n",
    "    \n",
    "    for email_domain in email_domain_set:\n",
    "        print(f'{email_domain}: {email_domain_list.count(email_domain)}')   \n",
    "        \n",
    "#     return email_domain_list\n",
    "\n",
    "print_distribution_of_emails_in_list_by_domain(emails)\n",
    "\n",
    "\n"
   ]
  }
 ],
 "metadata": {
  "kernelspec": {
   "display_name": "Python 3",
   "language": "python",
   "name": "python3"
  },
  "language_info": {
   "codemirror_mode": {
    "name": "ipython",
    "version": 3
   },
   "file_extension": ".py",
   "mimetype": "text/x-python",
   "name": "python",
   "nbconvert_exporter": "python",
   "pygments_lexer": "ipython3",
   "version": "3.8.3"
  }
 },
 "nbformat": 4,
 "nbformat_minor": 4
}
